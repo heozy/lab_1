{
  "cells": [
    {
      "cell_type": "markdown",
      "metadata": {
        "id": "view-in-github",
        "colab_type": "text"
      },
      "source": [
        "<a href=\"https://colab.research.google.com/github/heozy/lab_1/blob/lab/%D0%9A%D0%BE%D0%BF%D0%B8%D1%8F_%D0%B1%D0%BB%D0%BE%D0%BA%D0%BD%D0%BE%D1%82%D0%B0_%22lab_1_np_pandas_matplotlib%22.ipynb\" target=\"_parent\"><img src=\"https://colab.research.google.com/assets/colab-badge.svg\" alt=\"Open In Colab\"/></a>"
      ]
    },
    {
      "cell_type": "code",
      "execution_count": 3,
      "metadata": {
        "id": "AYaE7_JJ0FPF"
      },
      "outputs": [],
      "source": [
        "import numpy as np\n",
        "import pandas as pd\n",
        "import seaborn as sns\n",
        "import matplotlib.pyplot as plt"
      ]
    },
    {
      "cell_type": "markdown",
      "source": [
        "# 1. Разминка (4 балла)"
      ],
      "metadata": {
        "id": "0RCmksOJI3xV"
      }
    },
    {
      "cell_type": "markdown",
      "source": [
        "## 1.1 Создание матриц (0.25 балла)\n",
        "\n",
        "Создайте 4 матрицы\n",
        "- A - \"шахматную\" из нулей и единиц, размера 6 на 3, левое верхнее значение (A[0][0]) равно 1,\n",
        "- В - из чисел от 1 до 24, записанных в виде змейки, размера 6 на 4,\n",
        "- C - из случайных целых чисел от 2 до 10 (обе границы включительно), размера 4 на 3\n",
        "- D - из нулей с единичками на главной диагонали, размера 4 на 4.\n",
        "\n",
        "**Создайте из этих матриц \"лоскутную\" матрицу S**\n",
        "\n",
        "A В\n",
        "\n",
        "С D\n",
        "\n",
        "используя **только стандартные** операции numpy. Comprehensions использовать нельзя.\n",
        "\n",
        "После этого допишите к полученной матрице S матрицу F размера 10 на 2 из нулей, чтобы получилась матрица G:\n",
        "\n",
        "S F\n",
        "\n",
        "P.S. Когда мы говорим, что матрица имеет размер x на y, x - количество строк, y - количество столбцов."
      ],
      "metadata": {
        "id": "Qcg7rwRgLEhK"
      }
    },
    {
      "cell_type": "code",
      "source": [
        "# A = # TODO\n",
        "# B = # TODO\n",
        "# C = # TODO\n",
        "# D = # TODO\n",
        "\n",
        "# S = # TODO\n",
        "\n",
        "# F = # TODO\n",
        "\n",
        "# G = # TODO\n",
        "\n",
        "A = np.fromfunction(lambda i, j: (i + j + 1) % 2, (6, 3), dtype = int)\n",
        "\n",
        "numbers = np.arange(1, 25).reshape(6, 4)\n",
        "numbers[1::2] = numbers[1::2, ::-1]\n",
        "B = numbers\n",
        "\n",
        "C = np.random.randint(2, 11, size = (4, 3))\n",
        "\n",
        "D = np.eye(4, dtype = int)\n",
        "\n",
        "first_part = np.hstack((A, B))\n",
        "second_part = np.hstack((C, D))\n",
        "S = np.vstack((first_part, second_part))\n",
        "\n",
        "F = np.zeros((10, 2), dtype = int)\n",
        "\n",
        "G = np.hstack((S, F))"
      ],
      "metadata": {
        "id": "agysa3FoLG6G"
      },
      "execution_count": 7,
      "outputs": []
    },
    {
      "cell_type": "markdown",
      "source": [
        "## 1.2 Поиск ближайшего соседа (0.25 балла)\n",
        "\n",
        "Реализуйте функцию, принимающую на вход матрицу X и некоторое число a и возвращающую ближайший к числу элемент матрицы.\n",
        "Например, для X = np.arange(0,10).reshape((2, 5)) и a = 3.6 ответом будет 4. Можно пользоваться только базовыми функциями numpy, циклами пользоваться **нельзя**."
      ],
      "metadata": {
        "id": "PPNphrLJLYaO"
      }
    },
    {
      "cell_type": "code",
      "source": [
        "def find_nearest_neighbour(X, a):\n",
        "     differences = np.abs(X - a)\n",
        "     min_inx = np.argmin(differences)\n",
        "     closest = X.flat[min_inx]\n",
        "\n",
        "     return closest\n"
      ],
      "metadata": {
        "id": "9iyCwtKeL4Sx"
      },
      "execution_count": 8,
      "outputs": []
    },
    {
      "cell_type": "markdown",
      "source": [
        "## 1.3 Очень странная нейросеть (0.25 балла)\n",
        "\n",
        "Реализуйте одну очень странную нейросеть. Нейросеть должна:\n",
        "\n",
        "- Возводить матрицу A (матрицу весов) размера N x N в квадрат\n",
        "- В качестве первого преобразования умножать вектор X длины N (вектор признаков) на матрицу весов A**2 (на выходе получается новый вектор);\n",
        "- В качестве второго преобразования умножать вектор, полученный на прошлом шаге, на вектор b (вектор весов) размера N (на выходе получается скалярное число).\n",
        "\n",
        "Считаем, что все числа (элементы матриц и векторов) - числа с плавающей точкой."
      ],
      "metadata": {
        "id": "KjVNDl-qM5va"
      }
    },
    {
      "cell_type": "code",
      "source": [
        "# Придумайте свои данные для примера, N >= 4\n",
        "A = np.random.randint(2, 11, size = (5, 5))\n",
        "b = np.array([1, 2, -1, 2, 3])\n",
        "X = np.array([5, 15, -5, 20, 5])\n",
        "\n",
        "def very_strange_neural_network(A, b, X):\n",
        "    sqA = np.matmul(A, A)\n",
        "    second_vector = np.matmul(X, sqA)\n",
        "    scalar = np.dot(second_vector, b)\n",
        "\n",
        "    return scalar\n",
        "\n",
        "\n",
        "print(very_strange_neural_network(A, b, X))"
      ],
      "metadata": {
        "id": "fK9N52bVOQk3",
        "colab": {
          "base_uri": "https://localhost:8080/"
        },
        "outputId": "d105c692-bf8c-4aec-fe24-89463d505bfe"
      },
      "execution_count": 11,
      "outputs": [
        {
          "output_type": "stream",
          "name": "stdout",
          "text": [
            "61855\n"
          ]
        }
      ]
    },
    {
      "cell_type": "markdown",
      "source": [
        "## 1.4 Джунгли зовут! (0.25 балла)\n",
        "\n",
        "Перед вами матрица M - карта местности тяжелопроходимых джунглей, составленная Ларой Крофт. На карте каждая ячейка - целое число, обозначающее высоту над уровнем моря (если число больше нуля) в метрах или глубину моря (если число меньше нуля) в метрах в данной ячейке карты размером метр на метр. Если число 0, то это часть суши - берег.\n",
        "\n",
        "\n",
        "Вам необходимо посчитать:\n",
        "- Общую площадь клеточек моря, в которых его глубина больше 5 (в м^2)\n",
        "- Общий объём всей воды на карте (в м^3)\n",
        "- Максимальную высоту над уровнем моря, которая есть на этой карте (в м)"
      ],
      "metadata": {
        "id": "zqJo51OHO0Op"
      }
    },
    {
      "cell_type": "code",
      "source": [
        "def find_deep_sea_area(M):\n",
        "    sea_cells = M < -5\n",
        "    area = np.sum(sea_cells)\n",
        "    return area\n",
        "\n",
        "def find_water_volume(M):\n",
        "    water_cells = M < 0\n",
        "    volume = np.sum(np.abs(M[water_cells]))\n",
        "    return volume\n",
        "\n",
        "def find_max_height(M):\n",
        "    land_cells = M >= 0\n",
        "    max_height = np.max(M[land_cells])\n",
        "    return max_height"
      ],
      "metadata": {
        "id": "_xSlubGZSp-P"
      },
      "execution_count": 12,
      "outputs": []
    },
    {
      "cell_type": "code",
      "source": [
        "# Можно подставить свой пример\n",
        "M = np.array([\n",
        "    [-7, -3, -1, 0],\n",
        "    [-4, -3, 1, 19],\n",
        "    [-2, 0, 4, 25],\n",
        "    [-1, 3, 6, 9]\n",
        "])\n",
        "\n",
        "# простая проверка для примера выше\n",
        "assert np.isclose(find_deep_sea_area(M), 1)\n",
        "assert np.isclose(find_water_volume(M), 21)\n",
        "assert np.isclose(find_max_height(M), 25)\n",
        "\n",
        "print(\"Общая площадь моря на карте -\", find_deep_sea_area(M), \"м^2\")\n",
        "print(\"Общий объем воды на карте -\", find_water_volume(M), \"м^3\")\n",
        "print(\"Максимальный уровень над уровнем моря на карте -\", find_max_height(M), \"м\")"
      ],
      "metadata": {
        "id": "c6f0bMWKSuo-",
        "colab": {
          "base_uri": "https://localhost:8080/"
        },
        "outputId": "df8e2cbe-6a84-4fe9-fe4c-582b6ea48b97"
      },
      "execution_count": 13,
      "outputs": [
        {
          "output_type": "stream",
          "name": "stdout",
          "text": [
            "Общая площадь моря на карте - 1 м^2\n",
            "Общий объем воды на карте - 21 м^3\n",
            "Максимальный уровень над уровнем моря на карте - 25 м\n"
          ]
        }
      ]
    },
    {
      "cell_type": "markdown",
      "source": [
        "## 1.5 Острова сокровищ (0.25 балла)\n",
        "\n",
        "\n",
        "На вход функции подаётся массив a из нулей и единиц. Необходимо посчитать, сколько в массиве есть блоков из идущих подряд единиц (островков). Можно пользоваться только базовыми функциями numpy, циклами пользоваться **нельзя**.\n",
        "\n",
        "Подсказка: посмотрите, что такое `np.diff`"
      ],
      "metadata": {
        "id": "_aqjtctjExok"
      }
    },
    {
      "cell_type": "code",
      "source": [
        "def count_all_islands(a):\n",
        "    diffs = np.diff(a)\n",
        "    starts = np.sum(diffs == 1)\n",
        "    if a[0] == 1:\n",
        "        starts += 1\n",
        "    return starts"
      ],
      "metadata": {
        "id": "c5UFVtX_Ff_d"
      },
      "execution_count": 14,
      "outputs": []
    },
    {
      "cell_type": "code",
      "source": [
        "# можно подставить свой пример\n",
        "\n",
        "a = np.array([1, 0, 1, 1, 1, 0, 0, 0, 0, 1, 1, 0, 0, 1, 0, 1, 1, 1])\n",
        "\n",
        "# простая проверка для примера выше\n",
        "assert count_all_islands(a) == 5\n",
        "print(count_all_islands(a))"
      ],
      "metadata": {
        "id": "OeiTXVnFFYSm",
        "colab": {
          "base_uri": "https://localhost:8080/"
        },
        "outputId": "af91f011-1757-42ee-e016-b7f7ab303efc"
      },
      "execution_count": 17,
      "outputs": [
        {
          "output_type": "stream",
          "name": "stdout",
          "text": [
            "5\n"
          ]
        }
      ]
    },
    {
      "cell_type": "markdown",
      "source": [
        "## 1.6 Маскарад (0.25 балла)\n",
        "\n",
        "На вход идёт 2-мерная матрица X, заполненная числами с плавающей точкой, и дробное число a. Нужно заменить все ячейки в матрице, которые больше, чем а, на среднее значение среди элементов матрицы Х.\n",
        "\n",
        "**Нужно** пользоваться базовыми функциями numpy, **нельзя** пользоваться циклами."
      ],
      "metadata": {
        "id": "4KyG4iVKFmvv"
      }
    },
    {
      "cell_type": "code",
      "source": [
        "def swap_mask_for_average(X, a):\n",
        "    middle = np.mean(X)\n",
        "    mask = X > a\n",
        "    X[mask] = middle\n",
        "    return X"
      ],
      "metadata": {
        "id": "um-nH9VgGbeF"
      },
      "execution_count": 18,
      "outputs": []
    },
    {
      "cell_type": "code",
      "source": [
        "# Можно подставить свой пример\n",
        "M = np.array([\n",
        "    [-7, -3, -1, 0],\n",
        "    [-4, -3, 1, 19],\n",
        "    [-2, 0, 4, 25],\n",
        "    [-1, 3, 6, 9]\n",
        "])\n",
        "a = 5\n",
        "\n",
        "# простая проверка для примера выше\n",
        "assert np.allclose(swap_mask_for_average(M, a),\n",
        "                   np.array([\n",
        "                       [-7, -3, -1, 0],\n",
        "                       [-4, -3, 1, 2],\n",
        "                       [-2, 0, 4, 2],\n",
        "                       [-1, 3, 2, 2]\n",
        "                   ]))\n",
        "\n",
        "swap_mask_for_average(M, a)"
      ],
      "metadata": {
        "id": "3VM2Q15zGiCL",
        "colab": {
          "base_uri": "https://localhost:8080/"
        },
        "outputId": "c2ddd89e-8455-41cb-bc46-a3037d14d624"
      },
      "execution_count": 19,
      "outputs": [
        {
          "output_type": "execute_result",
          "data": {
            "text/plain": [
              "array([[-7, -3, -1,  0],\n",
              "       [-4, -3,  1,  2],\n",
              "       [-2,  0,  4,  2],\n",
              "       [-1,  3,  2,  2]])"
            ]
          },
          "metadata": {},
          "execution_count": 19
        }
      ]
    },
    {
      "cell_type": "markdown",
      "source": [
        "## 1.7 По горячим трейсам (0.25 балла)\n",
        "\n",
        "На вход приходит квадратная матрица М, надо посчитать разницу между суммой по главной и побочной диагоналями матрицы.\n",
        "\n",
        "\n",
        "Можно пользоваться только базовыми функциями numpy, циклами пользоваться **нельзя**.\n",
        "\n",
        "Подсказка: посмотрите, что такое `np.trace`"
      ],
      "metadata": {
        "id": "W8IS-G9mHygT"
      }
    },
    {
      "cell_type": "code",
      "source": [
        "def count_trace_diff(M):\n",
        "    first_diag_sum = np.trace(M)\n",
        "    swap_M = np.fliplr(M)\n",
        "    second_diag_sum = np.trace(swap_M)\n",
        "    diff = first_diag_sum - second_diag_sum\n",
        "    return diff"
      ],
      "metadata": {
        "id": "iD0baTAxIil6"
      },
      "execution_count": 22,
      "outputs": []
    },
    {
      "cell_type": "code",
      "source": [
        "# Можно подставить свой пример\n",
        "M = np.array([\n",
        "    [-7, -3, -1, 0],\n",
        "    [-4, -3, 1, 19],\n",
        "    [-2, 0, 4, 25],\n",
        "    [-1, 3, 6, 9]\n",
        "])\n",
        "\n",
        "# простая проверка для примера выше\n",
        "assert np.allclose(count_trace_diff(M), 3)\n",
        "\n",
        "count_trace_diff(M)"
      ],
      "metadata": {
        "id": "9cewBWIyIy7G",
        "colab": {
          "base_uri": "https://localhost:8080/"
        },
        "outputId": "77d67c88-8cf1-45c7-ccc0-5be48ddeb021"
      },
      "execution_count": 23,
      "outputs": [
        {
          "output_type": "execute_result",
          "data": {
            "text/plain": [
              "3"
            ]
          },
          "metadata": {},
          "execution_count": 23
        }
      ]
    },
    {
      "cell_type": "markdown",
      "source": [
        "## 1.8 Царь горы (0.25 балла)\n",
        "\n",
        "На вход приходит вектор a размера N. Необходимо при помощи сложения, конкатенации, бродкастинга получить симметричную матрицу размера 2N x 2N, у которой в середине максимальное значение, а к краям оно убывает.\n",
        "\n",
        "Пример: a = (0, 1, 2)\n",
        "\n",
        "Результат:\n",
        "\n",
        "0 1 2 2 1 0 \\\\\n",
        "1 2 3 3 2 1 \\\\\n",
        "2 3 4 4 3 2 \\\\\n",
        "2 3 4 4 3 2 \\\\\n",
        "1 2 3 3 2 1 \\\\\n",
        "0 1 2 2 1 0 \\\\"
      ],
      "metadata": {
        "id": "SPXmaaXCGu9X"
      }
    },
    {
      "cell_type": "code",
      "source": [
        "def create_mountain(a):\n",
        "    a_extended = np.concatenate([a, a[::-1]])\n",
        "    mountain_matrix = a_extended[:, np.newaxis] + a_extended[np.newaxis, :]\n",
        "    print(mountain_matrix)"
      ],
      "metadata": {
        "id": "AIZjzQ7qHasl"
      },
      "execution_count": 1,
      "outputs": []
    },
    {
      "cell_type": "code",
      "source": [
        "# Можно подставить свой пример\n",
        "a = np.array([0, 1, 2, 3, 4])\n",
        "\n",
        "create_mountain(a)"
      ],
      "metadata": {
        "id": "mPc6GlqTHi4y",
        "colab": {
          "base_uri": "https://localhost:8080/"
        },
        "outputId": "6447980a-34ce-4e61-8430-ec5c0236f37e"
      },
      "execution_count": 4,
      "outputs": [
        {
          "output_type": "stream",
          "name": "stdout",
          "text": [
            "[[0 1 2 3 4 4 3 2 1 0]\n",
            " [1 2 3 4 5 5 4 3 2 1]\n",
            " [2 3 4 5 6 6 5 4 3 2]\n",
            " [3 4 5 6 7 7 6 5 4 3]\n",
            " [4 5 6 7 8 8 7 6 5 4]\n",
            " [4 5 6 7 8 8 7 6 5 4]\n",
            " [3 4 5 6 7 7 6 5 4 3]\n",
            " [2 3 4 5 6 6 5 4 3 2]\n",
            " [1 2 3 4 5 5 4 3 2 1]\n",
            " [0 1 2 3 4 4 3 2 1 0]]\n"
          ]
        }
      ]
    },
    {
      "cell_type": "markdown",
      "source": [
        "## 1.9 Монохромная фотография 9 на 12 (0.5 балла)\n",
        "\n",
        "На вход приходит двухмерная матрица P размера N на M, заполненная числами от 0 до 255, соответствующая некой черно-белой фотографии и натуральное число C. Необходимо из неё получить матрицу размера (N-C + 1) x (M-C+1), где каждая ячейка - среднее значение соответствующей подматрицы размера C x C. Таким образом, по сути, мы сделаем примитивное размытие изображения (и немного потеряем в его размере)"
      ],
      "metadata": {
        "id": "_0DqE59yI4wo"
      }
    },
    {
      "cell_type": "code",
      "source": [
        "def custom_blur(P, C):\n",
        "    integral = np.pad(P, ((1, 0), (1, 0)), mode='constant', constant_values=0).cumsum(axis=0).cumsum(axis=1)\n",
        "    sum = integral[C:, C:] - integral[:-C, C:] - integral[C:, :-C] + integral[:-C, :-C]\n",
        "    blurred = sum / (C * C)\n",
        "    return blurred"
      ],
      "metadata": {
        "id": "_x1l9qofKBuT"
      },
      "execution_count": 5,
      "outputs": []
    },
    {
      "cell_type": "code",
      "source": [
        "# можно подставить свой пример\n",
        "P = np.arange(0, 12).reshape((3, 4))\n",
        "kernel = 2\n",
        "\n",
        "# простая проверка для примера выше\n",
        "assert np.allclose(custom_blur(P, kernel),\n",
        "                   np.array([[2.5, 3.5, 4.5], [6.5, 7.5, 8.5]]))\n",
        "custom_blur(P, 2 )"
      ],
      "metadata": {
        "id": "1UHsPZG6KNjB",
        "colab": {
          "base_uri": "https://localhost:8080/"
        },
        "outputId": "63b727e5-d157-4da1-fc1b-8e6ff8610c57"
      },
      "execution_count": 6,
      "outputs": [
        {
          "output_type": "execute_result",
          "data": {
            "text/plain": [
              "array([[2.5, 3.5, 4.5],\n",
              "       [6.5, 7.5, 8.5]])"
            ]
          },
          "metadata": {},
          "execution_count": 6
        }
      ]
    },
    {
      "cell_type": "markdown",
      "source": [
        "## 1.10 Функция проверки (0.75 балла)\n",
        "\n",
        "На вход функции поступает произвольное (>2) кортежей размеров (shape) различных матриц. Необходимо вернуть True если можно последовательно сложить эти матрицы (возможно, с помощью broadcasting), и False если нет."
      ],
      "metadata": {
        "id": "dfOlyj2NKUQM"
      }
    },
    {
      "cell_type": "code",
      "source": [
        "def check_successful_broadcast(*matrices):\n",
        "    max_sh = max(len(shape) for shape in matrices)\n",
        "    change_shapes = []\n",
        "    for shape in matrices:\n",
        "        change_shape = (1,) * (max_sh - len(shape)) + shape\n",
        "        change_shapes.append(change_shape)\n",
        "    for sh in zip(*change_shapes):\n",
        "        unique_sh = set(sh for sh in sh if sh != 1)\n",
        "        if len(unique_sh) > 1:\n",
        "            return False\n",
        "    return True"
      ],
      "metadata": {
        "id": "pvsySOXiLSll"
      },
      "execution_count": 7,
      "outputs": []
    },
    {
      "cell_type": "code",
      "source": [
        "assert check_successful_broadcast((5, 6, 7), (6, 7), (1, 7))\n",
        "# можно ещё потестировать на своих примерах"
      ],
      "metadata": {
        "id": "j2nlX8gZLgu_"
      },
      "execution_count": 9,
      "outputs": []
    },
    {
      "cell_type": "markdown",
      "source": [
        "## 1.11 Попарные расстояния (0.75 балла)\n",
        "\n",
        "На вход подаются матрицы A размера m x k и матрица B размера n x k. Нужно получить матрицу размера m x n, содержащую попарные евклидовы расстояния.\n",
        "\n",
        "Можно пользоваться только базовыми функциями, нельзя пользоваться циклами, сторонними библиотеками; скорее всего, пригодится broadcasting. Авторское решение записывается **в одну строчку** в соответствии со всеми правилами кодстайла."
      ],
      "metadata": {
        "id": "HCLr2eqgLrnW"
      }
    },
    {
      "cell_type": "code",
      "source": [
        "def pairwise_distances(A, B):\n",
        "    return np.sqrt(((A[:, np.newaxis, :] - B[np.newaxis, :, :]) ** 2).sum(axis=2))"
      ],
      "metadata": {
        "id": "BsYOG1fCMVTp"
      },
      "execution_count": 11,
      "outputs": []
    },
    {
      "cell_type": "code",
      "source": [
        "A = np.array([\n",
        "        [1, 2, 3],\n",
        "        [4, 5, 6]\n",
        "    ])\n",
        "B = np.array([\n",
        "        [7, 8, 9],\n",
        "        [10, 11, 12],\n",
        "        [13, 14, 15]\n",
        "    ])\n",
        "\n",
        "pairwise_distances(A, B)"
      ],
      "metadata": {
        "id": "tjXHwtl0Mgdt",
        "colab": {
          "base_uri": "https://localhost:8080/"
        },
        "outputId": "0832a5d0-448c-4ea3-c1c8-85178bce1331"
      },
      "execution_count": 12,
      "outputs": [
        {
          "output_type": "execute_result",
          "data": {
            "text/plain": [
              "array([[10.39230485, 15.58845727, 20.78460969],\n",
              "       [ 5.19615242, 10.39230485, 15.58845727]])"
            ]
          },
          "metadata": {},
          "execution_count": 12
        }
      ]
    },
    {
      "cell_type": "markdown",
      "source": [
        "Объясни принцип работы этой одной строчки. Что именно происходит в ней?\n",
        "\n",
        "<font color='yellow'> 1.A[:, np.newaxis, :] добавляет новую ось, превращая A в форму (m, 1, k). 2. B[np.newaxis, :, :] добавляет новую ось, превращая B в форму (1, n, k). 3. Разность A[:, np.newaxis, :] - B[np.newaxis, :, :] вычисляется для каждой пары строк из A и B, результат имеет форму (m, n, k). 4. Квадрат разности (A[:, np.newaxis, :] - B[np.newaxis, :, :]) ** 2 сохраняет форму (m, n, k). 5. Сумма по последней оси .sum(axis=2) даёт сумму квадратов разностей для каждой пары строк, результат имеет форму (m, n). 6. Извлечение квадратного корня np.sqrt(...) преобразует сумму квадратов в евклидовы расстояния. </font>"
      ],
      "metadata": {
        "id": "ZTgj4OtAgcyI"
      }
    },
    {
      "cell_type": "markdown",
      "metadata": {
        "id": "54rP40WP9qzf"
      },
      "source": [
        "# 2. Обработка данных эксперимента (3 балла)"
      ]
    },
    {
      "cell_type": "markdown",
      "source": [
        "А сейчас, дамы и господа, мы научимся использовать библиотеки для анализа данных в реальности!\n",
        "\n",
        "**Причина появления этого раздела проста**: многие студенты ПМФ даже во втором и третьем семестрах продолжают использовать Excel, калькулятор или лист бумаги. Хочется открыть глаза на ещё один способ выполнения лабораторных с намного меньшим порогом вхождения, чем тот же Excel. Авторы надеются, что кого-то это замотивирует присмотреться к удобным библиотекам.\n",
        "\n",
        "*Спонсор данных для раздела - blacksamorez. Без него пять счастливых семестров лаб были бы совсем не счастливыми...*"
      ],
      "metadata": {
        "id": "QnfGJx2qMvBH"
      }
    },
    {
      "cell_type": "code",
      "execution_count": 2,
      "metadata": {
        "id": "ZhGfEL9KtqZN"
      },
      "outputs": [],
      "source": [
        "import numpy as np\n",
        "import pandas as pd\n",
        "import matplotlib.pyplot as plt"
      ]
    },
    {
      "cell_type": "markdown",
      "metadata": {
        "id": "q2Qr6BIzASBB"
      },
      "source": [
        "##  2.1. Постановка задачи и данные\n",
        "\n",
        "Предположим, у нас есть гироскоп с прицепленным к его оси грузом на рычаге (см. рисунок для быстрого понимания, а подробности можно узнать в [лабораторном практикуме](https://lib.mipt.ru/book/267519/), том 1, стр.160). Из-за наличия груза гироскоп начинает медленно [прецессировать](https://ru.wikipedia.org/wiki/%D0%9F%D1%80%D0%B5%D1%86%D0%B5%D1%81%D1%81%D0%B8%D1%8F), т.е. вращаться вокруг вертикальной оси с какой-то более-менее постоянной частотой.\n",
        "\n",
        "Мы с вами разберём часть этой лабораторной, в основном касающуюся обработки данных и построения графиков."
      ]
    },
    {
      "cell_type": "markdown",
      "source": [
        "<center><img src='https://drive.google.com/uc?export=view&id=1KfYQ0hKYRDhi5uk7C8lNffZBNy8NF7nu' width=600>\n",
        "\n",
        "Изображение гироскопа с подвешенным грузом Г и рычагом С</center>"
      ],
      "metadata": {
        "id": "FrPpSNRaKsfa"
      }
    },
    {
      "cell_type": "markdown",
      "metadata": {
        "id": "XxZ2BYwEkWTI"
      },
      "source": [
        "Для начала посмотрим на данные, которые любезно кто-то для нас собрал. Создайте датафрейм из [файла](https://drive.google.com/file/d/1SbLR6R16obqLewUTnX1CAAjQTrVXh2Vq/view?usp=sharing)"
      ]
    },
    {
      "cell_type": "code",
      "execution_count": 3,
      "metadata": {
        "colab": {
          "base_uri": "https://localhost:8080/",
          "height": 204
        },
        "id": "b8vBlrx1tlKv",
        "outputId": "84f13c18-15b6-4fee-e282-e5338e80599f"
      },
      "outputs": [
        {
          "output_type": "execute_result",
          "data": {
            "text/plain": [
              "   Unnamed: 0  N  t, sec  sigma_t, sec  mass, gramm  length, cm  phi, rad\n",
              "0           1  4     268             1        180.0       121.0      0.16\n",
              "1           2  4     264             1        180.0       121.0      0.18\n",
              "2           3  4     275             1        180.0       121.0      0.16\n",
              "3           4  4     263             1        180.0       121.0      0.17\n",
              "4           5  4     267             1        180.0       121.0      0.17"
            ],
            "text/html": [
              "\n",
              "  <div id=\"df-8d868470-d5aa-4425-9214-56e47f1a79f4\" class=\"colab-df-container\">\n",
              "    <div>\n",
              "<style scoped>\n",
              "    .dataframe tbody tr th:only-of-type {\n",
              "        vertical-align: middle;\n",
              "    }\n",
              "\n",
              "    .dataframe tbody tr th {\n",
              "        vertical-align: top;\n",
              "    }\n",
              "\n",
              "    .dataframe thead th {\n",
              "        text-align: right;\n",
              "    }\n",
              "</style>\n",
              "<table border=\"1\" class=\"dataframe\">\n",
              "  <thead>\n",
              "    <tr style=\"text-align: right;\">\n",
              "      <th></th>\n",
              "      <th>Unnamed: 0</th>\n",
              "      <th>N</th>\n",
              "      <th>t, sec</th>\n",
              "      <th>sigma_t, sec</th>\n",
              "      <th>mass, gramm</th>\n",
              "      <th>length, cm</th>\n",
              "      <th>phi, rad</th>\n",
              "    </tr>\n",
              "  </thead>\n",
              "  <tbody>\n",
              "    <tr>\n",
              "      <th>0</th>\n",
              "      <td>1</td>\n",
              "      <td>4</td>\n",
              "      <td>268</td>\n",
              "      <td>1</td>\n",
              "      <td>180.0</td>\n",
              "      <td>121.0</td>\n",
              "      <td>0.16</td>\n",
              "    </tr>\n",
              "    <tr>\n",
              "      <th>1</th>\n",
              "      <td>2</td>\n",
              "      <td>4</td>\n",
              "      <td>264</td>\n",
              "      <td>1</td>\n",
              "      <td>180.0</td>\n",
              "      <td>121.0</td>\n",
              "      <td>0.18</td>\n",
              "    </tr>\n",
              "    <tr>\n",
              "      <th>2</th>\n",
              "      <td>3</td>\n",
              "      <td>4</td>\n",
              "      <td>275</td>\n",
              "      <td>1</td>\n",
              "      <td>180.0</td>\n",
              "      <td>121.0</td>\n",
              "      <td>0.16</td>\n",
              "    </tr>\n",
              "    <tr>\n",
              "      <th>3</th>\n",
              "      <td>4</td>\n",
              "      <td>4</td>\n",
              "      <td>263</td>\n",
              "      <td>1</td>\n",
              "      <td>180.0</td>\n",
              "      <td>121.0</td>\n",
              "      <td>0.17</td>\n",
              "    </tr>\n",
              "    <tr>\n",
              "      <th>4</th>\n",
              "      <td>5</td>\n",
              "      <td>4</td>\n",
              "      <td>267</td>\n",
              "      <td>1</td>\n",
              "      <td>180.0</td>\n",
              "      <td>121.0</td>\n",
              "      <td>0.17</td>\n",
              "    </tr>\n",
              "  </tbody>\n",
              "</table>\n",
              "</div>\n",
              "    <div class=\"colab-df-buttons\">\n",
              "\n",
              "  <div class=\"colab-df-container\">\n",
              "    <button class=\"colab-df-convert\" onclick=\"convertToInteractive('df-8d868470-d5aa-4425-9214-56e47f1a79f4')\"\n",
              "            title=\"Convert this dataframe to an interactive table.\"\n",
              "            style=\"display:none;\">\n",
              "\n",
              "  <svg xmlns=\"http://www.w3.org/2000/svg\" height=\"24px\" viewBox=\"0 -960 960 960\">\n",
              "    <path d=\"M120-120v-720h720v720H120Zm60-500h600v-160H180v160Zm220 220h160v-160H400v160Zm0 220h160v-160H400v160ZM180-400h160v-160H180v160Zm440 0h160v-160H620v160ZM180-180h160v-160H180v160Zm440 0h160v-160H620v160Z\"/>\n",
              "  </svg>\n",
              "    </button>\n",
              "\n",
              "  <style>\n",
              "    .colab-df-container {\n",
              "      display:flex;\n",
              "      gap: 12px;\n",
              "    }\n",
              "\n",
              "    .colab-df-convert {\n",
              "      background-color: #E8F0FE;\n",
              "      border: none;\n",
              "      border-radius: 50%;\n",
              "      cursor: pointer;\n",
              "      display: none;\n",
              "      fill: #1967D2;\n",
              "      height: 32px;\n",
              "      padding: 0 0 0 0;\n",
              "      width: 32px;\n",
              "    }\n",
              "\n",
              "    .colab-df-convert:hover {\n",
              "      background-color: #E2EBFA;\n",
              "      box-shadow: 0px 1px 2px rgba(60, 64, 67, 0.3), 0px 1px 3px 1px rgba(60, 64, 67, 0.15);\n",
              "      fill: #174EA6;\n",
              "    }\n",
              "\n",
              "    .colab-df-buttons div {\n",
              "      margin-bottom: 4px;\n",
              "    }\n",
              "\n",
              "    [theme=dark] .colab-df-convert {\n",
              "      background-color: #3B4455;\n",
              "      fill: #D2E3FC;\n",
              "    }\n",
              "\n",
              "    [theme=dark] .colab-df-convert:hover {\n",
              "      background-color: #434B5C;\n",
              "      box-shadow: 0px 1px 3px 1px rgba(0, 0, 0, 0.15);\n",
              "      filter: drop-shadow(0px 1px 2px rgba(0, 0, 0, 0.3));\n",
              "      fill: #FFFFFF;\n",
              "    }\n",
              "  </style>\n",
              "\n",
              "    <script>\n",
              "      const buttonEl =\n",
              "        document.querySelector('#df-8d868470-d5aa-4425-9214-56e47f1a79f4 button.colab-df-convert');\n",
              "      buttonEl.style.display =\n",
              "        google.colab.kernel.accessAllowed ? 'block' : 'none';\n",
              "\n",
              "      async function convertToInteractive(key) {\n",
              "        const element = document.querySelector('#df-8d868470-d5aa-4425-9214-56e47f1a79f4');\n",
              "        const dataTable =\n",
              "          await google.colab.kernel.invokeFunction('convertToInteractive',\n",
              "                                                    [key], {});\n",
              "        if (!dataTable) return;\n",
              "\n",
              "        const docLinkHtml = 'Like what you see? Visit the ' +\n",
              "          '<a target=\"_blank\" href=https://colab.research.google.com/notebooks/data_table.ipynb>data table notebook</a>'\n",
              "          + ' to learn more about interactive tables.';\n",
              "        element.innerHTML = '';\n",
              "        dataTable['output_type'] = 'display_data';\n",
              "        await google.colab.output.renderOutput(dataTable, element);\n",
              "        const docLink = document.createElement('div');\n",
              "        docLink.innerHTML = docLinkHtml;\n",
              "        element.appendChild(docLink);\n",
              "      }\n",
              "    </script>\n",
              "  </div>\n",
              "\n",
              "\n",
              "<div id=\"df-4f5d2a38-8054-4822-881a-1109a9ba8bc7\">\n",
              "  <button class=\"colab-df-quickchart\" onclick=\"quickchart('df-4f5d2a38-8054-4822-881a-1109a9ba8bc7')\"\n",
              "            title=\"Suggest charts\"\n",
              "            style=\"display:none;\">\n",
              "\n",
              "<svg xmlns=\"http://www.w3.org/2000/svg\" height=\"24px\"viewBox=\"0 0 24 24\"\n",
              "     width=\"24px\">\n",
              "    <g>\n",
              "        <path d=\"M19 3H5c-1.1 0-2 .9-2 2v14c0 1.1.9 2 2 2h14c1.1 0 2-.9 2-2V5c0-1.1-.9-2-2-2zM9 17H7v-7h2v7zm4 0h-2V7h2v10zm4 0h-2v-4h2v4z\"/>\n",
              "    </g>\n",
              "</svg>\n",
              "  </button>\n",
              "\n",
              "<style>\n",
              "  .colab-df-quickchart {\n",
              "      --bg-color: #E8F0FE;\n",
              "      --fill-color: #1967D2;\n",
              "      --hover-bg-color: #E2EBFA;\n",
              "      --hover-fill-color: #174EA6;\n",
              "      --disabled-fill-color: #AAA;\n",
              "      --disabled-bg-color: #DDD;\n",
              "  }\n",
              "\n",
              "  [theme=dark] .colab-df-quickchart {\n",
              "      --bg-color: #3B4455;\n",
              "      --fill-color: #D2E3FC;\n",
              "      --hover-bg-color: #434B5C;\n",
              "      --hover-fill-color: #FFFFFF;\n",
              "      --disabled-bg-color: #3B4455;\n",
              "      --disabled-fill-color: #666;\n",
              "  }\n",
              "\n",
              "  .colab-df-quickchart {\n",
              "    background-color: var(--bg-color);\n",
              "    border: none;\n",
              "    border-radius: 50%;\n",
              "    cursor: pointer;\n",
              "    display: none;\n",
              "    fill: var(--fill-color);\n",
              "    height: 32px;\n",
              "    padding: 0;\n",
              "    width: 32px;\n",
              "  }\n",
              "\n",
              "  .colab-df-quickchart:hover {\n",
              "    background-color: var(--hover-bg-color);\n",
              "    box-shadow: 0 1px 2px rgba(60, 64, 67, 0.3), 0 1px 3px 1px rgba(60, 64, 67, 0.15);\n",
              "    fill: var(--button-hover-fill-color);\n",
              "  }\n",
              "\n",
              "  .colab-df-quickchart-complete:disabled,\n",
              "  .colab-df-quickchart-complete:disabled:hover {\n",
              "    background-color: var(--disabled-bg-color);\n",
              "    fill: var(--disabled-fill-color);\n",
              "    box-shadow: none;\n",
              "  }\n",
              "\n",
              "  .colab-df-spinner {\n",
              "    border: 2px solid var(--fill-color);\n",
              "    border-color: transparent;\n",
              "    border-bottom-color: var(--fill-color);\n",
              "    animation:\n",
              "      spin 1s steps(1) infinite;\n",
              "  }\n",
              "\n",
              "  @keyframes spin {\n",
              "    0% {\n",
              "      border-color: transparent;\n",
              "      border-bottom-color: var(--fill-color);\n",
              "      border-left-color: var(--fill-color);\n",
              "    }\n",
              "    20% {\n",
              "      border-color: transparent;\n",
              "      border-left-color: var(--fill-color);\n",
              "      border-top-color: var(--fill-color);\n",
              "    }\n",
              "    30% {\n",
              "      border-color: transparent;\n",
              "      border-left-color: var(--fill-color);\n",
              "      border-top-color: var(--fill-color);\n",
              "      border-right-color: var(--fill-color);\n",
              "    }\n",
              "    40% {\n",
              "      border-color: transparent;\n",
              "      border-right-color: var(--fill-color);\n",
              "      border-top-color: var(--fill-color);\n",
              "    }\n",
              "    60% {\n",
              "      border-color: transparent;\n",
              "      border-right-color: var(--fill-color);\n",
              "    }\n",
              "    80% {\n",
              "      border-color: transparent;\n",
              "      border-right-color: var(--fill-color);\n",
              "      border-bottom-color: var(--fill-color);\n",
              "    }\n",
              "    90% {\n",
              "      border-color: transparent;\n",
              "      border-bottom-color: var(--fill-color);\n",
              "    }\n",
              "  }\n",
              "</style>\n",
              "\n",
              "  <script>\n",
              "    async function quickchart(key) {\n",
              "      const quickchartButtonEl =\n",
              "        document.querySelector('#' + key + ' button');\n",
              "      quickchartButtonEl.disabled = true;  // To prevent multiple clicks.\n",
              "      quickchartButtonEl.classList.add('colab-df-spinner');\n",
              "      try {\n",
              "        const charts = await google.colab.kernel.invokeFunction(\n",
              "            'suggestCharts', [key], {});\n",
              "      } catch (error) {\n",
              "        console.error('Error during call to suggestCharts:', error);\n",
              "      }\n",
              "      quickchartButtonEl.classList.remove('colab-df-spinner');\n",
              "      quickchartButtonEl.classList.add('colab-df-quickchart-complete');\n",
              "    }\n",
              "    (() => {\n",
              "      let quickchartButtonEl =\n",
              "        document.querySelector('#df-4f5d2a38-8054-4822-881a-1109a9ba8bc7 button');\n",
              "      quickchartButtonEl.style.display =\n",
              "        google.colab.kernel.accessAllowed ? 'block' : 'none';\n",
              "    })();\n",
              "  </script>\n",
              "</div>\n",
              "    </div>\n",
              "  </div>\n"
            ],
            "application/vnd.google.colaboratory.intrinsic+json": {
              "type": "dataframe",
              "variable_name": "data",
              "summary": "{\n  \"name\": \"data\",\n  \"rows\": 30,\n  \"fields\": [\n    {\n      \"column\": \"Unnamed: 0\",\n      \"properties\": {\n        \"dtype\": \"number\",\n        \"std\": 8,\n        \"min\": 1,\n        \"max\": 30,\n        \"num_unique_values\": 30,\n        \"samples\": [\n          28,\n          16,\n          24\n        ],\n        \"semantic_type\": \"\",\n        \"description\": \"\"\n      }\n    },\n    {\n      \"column\": \"N\",\n      \"properties\": {\n        \"dtype\": \"number\",\n        \"std\": 1,\n        \"min\": 3,\n        \"max\": 6,\n        \"num_unique_values\": 4,\n        \"samples\": [\n          3,\n          5,\n          4\n        ],\n        \"semantic_type\": \"\",\n        \"description\": \"\"\n      }\n    },\n    {\n      \"column\": \"t, sec\",\n      \"properties\": {\n        \"dtype\": \"number\",\n        \"std\": 37,\n        \"min\": 173,\n        \"max\": 287,\n        \"num_unique_values\": 26,\n        \"samples\": [\n          229,\n          278,\n          268\n        ],\n        \"semantic_type\": \"\",\n        \"description\": \"\"\n      }\n    },\n    {\n      \"column\": \"sigma_t, sec\",\n      \"properties\": {\n        \"dtype\": \"number\",\n        \"std\": 0,\n        \"min\": 1,\n        \"max\": 1,\n        \"num_unique_values\": 1,\n        \"samples\": [\n          1\n        ],\n        \"semantic_type\": \"\",\n        \"description\": \"\"\n      }\n    },\n    {\n      \"column\": \"mass, gramm\",\n      \"properties\": {\n        \"dtype\": \"number\",\n        \"std\": 159.32688872649328,\n        \"min\": 142.0,\n        \"max\": 614.0,\n        \"num_unique_values\": 6,\n        \"samples\": [\n          180.0\n        ],\n        \"semantic_type\": \"\",\n        \"description\": \"\"\n      }\n    },\n    {\n      \"column\": \"length, cm\",\n      \"properties\": {\n        \"dtype\": \"number\",\n        \"std\": 6.010049055970542,\n        \"min\": 108.0,\n        \"max\": 122.0,\n        \"num_unique_values\": 5,\n        \"samples\": [\n          108.0\n        ],\n        \"semantic_type\": \"\",\n        \"description\": \"\"\n      }\n    },\n    {\n      \"column\": \"phi, rad\",\n      \"properties\": {\n        \"dtype\": \"number\",\n        \"std\": 0.00858359836662575,\n        \"min\": 0.14,\n        \"max\": 0.18,\n        \"num_unique_values\": 5,\n        \"samples\": [\n          0.18\n        ],\n        \"semantic_type\": \"\",\n        \"description\": \"\"\n      }\n    }\n  ]\n}"
            }
          },
          "metadata": {},
          "execution_count": 3
        }
      ],
      "source": [
        "import os\n",
        "os.system(\"curl https://raw.githubusercontent.com/aRTIKa-afk/mipt-py-data/refs/heads/main/data_numpy_lab.csv -o data_numpy_lab.csv\")\n",
        "data = pd.read_csv('./data_numpy_lab.csv')\n",
        "data.head()"
      ]
    },
    {
      "cell_type": "markdown",
      "source": [
        "## 2.2 Работа с данными"
      ],
      "metadata": {
        "id": "rjZD-cOw7nms"
      }
    },
    {
      "cell_type": "markdown",
      "metadata": {
        "id": "DIUhNNUQxDQ1"
      },
      "source": [
        "Колонки в датафрейме следующие:\n",
        "\n",
        "N - количество полных оборотов гироскопа в эксперименте;\n",
        "\n",
        "t, в секундах - время эксперимента;\n",
        "\n",
        "$\\sigma_t$ - погрешность измерения времени;\n",
        "\n",
        "mass - масса груза, подвешенного к рычагу на гироскопе;\n",
        "\n",
        "length - длина плеча вышеупомянутого рычага;\n",
        "\n",
        "phi - угол в радианах, на который опустился рычаг за время эксперимента. Понадобится, чтобы оценить влияние силы трения в гироскопе на прецессию."
      ]
    },
    {
      "cell_type": "markdown",
      "metadata": {
        "id": "fnTCoIqdyDVF"
      },
      "source": [
        "Так как физики любят оперировать величинами адекватной размерности, нужно перевести колонки с массой в килограммы, а с длиной - в метры. Затем переименуйте все колонки так, чтобы в них не осталось упоминаний о размерности - только названия физических величин."
      ]
    },
    {
      "cell_type": "code",
      "execution_count": 4,
      "metadata": {
        "id": "SidmSVzMyW_U",
        "colab": {
          "base_uri": "https://localhost:8080/",
          "height": 204
        },
        "outputId": "848f42ab-83ba-4511-be83-9c50a4f7bf34"
      },
      "outputs": [
        {
          "output_type": "execute_result",
          "data": {
            "text/plain": [
              "   num  N    t  sigma_t  mass  length   phi\n",
              "0    1  4  268        1  0.18    1.21  0.16\n",
              "1    2  4  264        1  0.18    1.21  0.18\n",
              "2    3  4  275        1  0.18    1.21  0.16\n",
              "3    4  4  263        1  0.18    1.21  0.17\n",
              "4    5  4  267        1  0.18    1.21  0.17"
            ],
            "text/html": [
              "\n",
              "  <div id=\"df-c1676f0f-1ee2-482e-8ee8-6da0fae7cd9a\" class=\"colab-df-container\">\n",
              "    <div>\n",
              "<style scoped>\n",
              "    .dataframe tbody tr th:only-of-type {\n",
              "        vertical-align: middle;\n",
              "    }\n",
              "\n",
              "    .dataframe tbody tr th {\n",
              "        vertical-align: top;\n",
              "    }\n",
              "\n",
              "    .dataframe thead th {\n",
              "        text-align: right;\n",
              "    }\n",
              "</style>\n",
              "<table border=\"1\" class=\"dataframe\">\n",
              "  <thead>\n",
              "    <tr style=\"text-align: right;\">\n",
              "      <th></th>\n",
              "      <th>num</th>\n",
              "      <th>N</th>\n",
              "      <th>t</th>\n",
              "      <th>sigma_t</th>\n",
              "      <th>mass</th>\n",
              "      <th>length</th>\n",
              "      <th>phi</th>\n",
              "    </tr>\n",
              "  </thead>\n",
              "  <tbody>\n",
              "    <tr>\n",
              "      <th>0</th>\n",
              "      <td>1</td>\n",
              "      <td>4</td>\n",
              "      <td>268</td>\n",
              "      <td>1</td>\n",
              "      <td>0.18</td>\n",
              "      <td>1.21</td>\n",
              "      <td>0.16</td>\n",
              "    </tr>\n",
              "    <tr>\n",
              "      <th>1</th>\n",
              "      <td>2</td>\n",
              "      <td>4</td>\n",
              "      <td>264</td>\n",
              "      <td>1</td>\n",
              "      <td>0.18</td>\n",
              "      <td>1.21</td>\n",
              "      <td>0.18</td>\n",
              "    </tr>\n",
              "    <tr>\n",
              "      <th>2</th>\n",
              "      <td>3</td>\n",
              "      <td>4</td>\n",
              "      <td>275</td>\n",
              "      <td>1</td>\n",
              "      <td>0.18</td>\n",
              "      <td>1.21</td>\n",
              "      <td>0.16</td>\n",
              "    </tr>\n",
              "    <tr>\n",
              "      <th>3</th>\n",
              "      <td>4</td>\n",
              "      <td>4</td>\n",
              "      <td>263</td>\n",
              "      <td>1</td>\n",
              "      <td>0.18</td>\n",
              "      <td>1.21</td>\n",
              "      <td>0.17</td>\n",
              "    </tr>\n",
              "    <tr>\n",
              "      <th>4</th>\n",
              "      <td>5</td>\n",
              "      <td>4</td>\n",
              "      <td>267</td>\n",
              "      <td>1</td>\n",
              "      <td>0.18</td>\n",
              "      <td>1.21</td>\n",
              "      <td>0.17</td>\n",
              "    </tr>\n",
              "  </tbody>\n",
              "</table>\n",
              "</div>\n",
              "    <div class=\"colab-df-buttons\">\n",
              "\n",
              "  <div class=\"colab-df-container\">\n",
              "    <button class=\"colab-df-convert\" onclick=\"convertToInteractive('df-c1676f0f-1ee2-482e-8ee8-6da0fae7cd9a')\"\n",
              "            title=\"Convert this dataframe to an interactive table.\"\n",
              "            style=\"display:none;\">\n",
              "\n",
              "  <svg xmlns=\"http://www.w3.org/2000/svg\" height=\"24px\" viewBox=\"0 -960 960 960\">\n",
              "    <path d=\"M120-120v-720h720v720H120Zm60-500h600v-160H180v160Zm220 220h160v-160H400v160Zm0 220h160v-160H400v160ZM180-400h160v-160H180v160Zm440 0h160v-160H620v160ZM180-180h160v-160H180v160Zm440 0h160v-160H620v160Z\"/>\n",
              "  </svg>\n",
              "    </button>\n",
              "\n",
              "  <style>\n",
              "    .colab-df-container {\n",
              "      display:flex;\n",
              "      gap: 12px;\n",
              "    }\n",
              "\n",
              "    .colab-df-convert {\n",
              "      background-color: #E8F0FE;\n",
              "      border: none;\n",
              "      border-radius: 50%;\n",
              "      cursor: pointer;\n",
              "      display: none;\n",
              "      fill: #1967D2;\n",
              "      height: 32px;\n",
              "      padding: 0 0 0 0;\n",
              "      width: 32px;\n",
              "    }\n",
              "\n",
              "    .colab-df-convert:hover {\n",
              "      background-color: #E2EBFA;\n",
              "      box-shadow: 0px 1px 2px rgba(60, 64, 67, 0.3), 0px 1px 3px 1px rgba(60, 64, 67, 0.15);\n",
              "      fill: #174EA6;\n",
              "    }\n",
              "\n",
              "    .colab-df-buttons div {\n",
              "      margin-bottom: 4px;\n",
              "    }\n",
              "\n",
              "    [theme=dark] .colab-df-convert {\n",
              "      background-color: #3B4455;\n",
              "      fill: #D2E3FC;\n",
              "    }\n",
              "\n",
              "    [theme=dark] .colab-df-convert:hover {\n",
              "      background-color: #434B5C;\n",
              "      box-shadow: 0px 1px 3px 1px rgba(0, 0, 0, 0.15);\n",
              "      filter: drop-shadow(0px 1px 2px rgba(0, 0, 0, 0.3));\n",
              "      fill: #FFFFFF;\n",
              "    }\n",
              "  </style>\n",
              "\n",
              "    <script>\n",
              "      const buttonEl =\n",
              "        document.querySelector('#df-c1676f0f-1ee2-482e-8ee8-6da0fae7cd9a button.colab-df-convert');\n",
              "      buttonEl.style.display =\n",
              "        google.colab.kernel.accessAllowed ? 'block' : 'none';\n",
              "\n",
              "      async function convertToInteractive(key) {\n",
              "        const element = document.querySelector('#df-c1676f0f-1ee2-482e-8ee8-6da0fae7cd9a');\n",
              "        const dataTable =\n",
              "          await google.colab.kernel.invokeFunction('convertToInteractive',\n",
              "                                                    [key], {});\n",
              "        if (!dataTable) return;\n",
              "\n",
              "        const docLinkHtml = 'Like what you see? Visit the ' +\n",
              "          '<a target=\"_blank\" href=https://colab.research.google.com/notebooks/data_table.ipynb>data table notebook</a>'\n",
              "          + ' to learn more about interactive tables.';\n",
              "        element.innerHTML = '';\n",
              "        dataTable['output_type'] = 'display_data';\n",
              "        await google.colab.output.renderOutput(dataTable, element);\n",
              "        const docLink = document.createElement('div');\n",
              "        docLink.innerHTML = docLinkHtml;\n",
              "        element.appendChild(docLink);\n",
              "      }\n",
              "    </script>\n",
              "  </div>\n",
              "\n",
              "\n",
              "<div id=\"df-55efc1fb-d720-4012-a648-6cc3a4b86191\">\n",
              "  <button class=\"colab-df-quickchart\" onclick=\"quickchart('df-55efc1fb-d720-4012-a648-6cc3a4b86191')\"\n",
              "            title=\"Suggest charts\"\n",
              "            style=\"display:none;\">\n",
              "\n",
              "<svg xmlns=\"http://www.w3.org/2000/svg\" height=\"24px\"viewBox=\"0 0 24 24\"\n",
              "     width=\"24px\">\n",
              "    <g>\n",
              "        <path d=\"M19 3H5c-1.1 0-2 .9-2 2v14c0 1.1.9 2 2 2h14c1.1 0 2-.9 2-2V5c0-1.1-.9-2-2-2zM9 17H7v-7h2v7zm4 0h-2V7h2v10zm4 0h-2v-4h2v4z\"/>\n",
              "    </g>\n",
              "</svg>\n",
              "  </button>\n",
              "\n",
              "<style>\n",
              "  .colab-df-quickchart {\n",
              "      --bg-color: #E8F0FE;\n",
              "      --fill-color: #1967D2;\n",
              "      --hover-bg-color: #E2EBFA;\n",
              "      --hover-fill-color: #174EA6;\n",
              "      --disabled-fill-color: #AAA;\n",
              "      --disabled-bg-color: #DDD;\n",
              "  }\n",
              "\n",
              "  [theme=dark] .colab-df-quickchart {\n",
              "      --bg-color: #3B4455;\n",
              "      --fill-color: #D2E3FC;\n",
              "      --hover-bg-color: #434B5C;\n",
              "      --hover-fill-color: #FFFFFF;\n",
              "      --disabled-bg-color: #3B4455;\n",
              "      --disabled-fill-color: #666;\n",
              "  }\n",
              "\n",
              "  .colab-df-quickchart {\n",
              "    background-color: var(--bg-color);\n",
              "    border: none;\n",
              "    border-radius: 50%;\n",
              "    cursor: pointer;\n",
              "    display: none;\n",
              "    fill: var(--fill-color);\n",
              "    height: 32px;\n",
              "    padding: 0;\n",
              "    width: 32px;\n",
              "  }\n",
              "\n",
              "  .colab-df-quickchart:hover {\n",
              "    background-color: var(--hover-bg-color);\n",
              "    box-shadow: 0 1px 2px rgba(60, 64, 67, 0.3), 0 1px 3px 1px rgba(60, 64, 67, 0.15);\n",
              "    fill: var(--button-hover-fill-color);\n",
              "  }\n",
              "\n",
              "  .colab-df-quickchart-complete:disabled,\n",
              "  .colab-df-quickchart-complete:disabled:hover {\n",
              "    background-color: var(--disabled-bg-color);\n",
              "    fill: var(--disabled-fill-color);\n",
              "    box-shadow: none;\n",
              "  }\n",
              "\n",
              "  .colab-df-spinner {\n",
              "    border: 2px solid var(--fill-color);\n",
              "    border-color: transparent;\n",
              "    border-bottom-color: var(--fill-color);\n",
              "    animation:\n",
              "      spin 1s steps(1) infinite;\n",
              "  }\n",
              "\n",
              "  @keyframes spin {\n",
              "    0% {\n",
              "      border-color: transparent;\n",
              "      border-bottom-color: var(--fill-color);\n",
              "      border-left-color: var(--fill-color);\n",
              "    }\n",
              "    20% {\n",
              "      border-color: transparent;\n",
              "      border-left-color: var(--fill-color);\n",
              "      border-top-color: var(--fill-color);\n",
              "    }\n",
              "    30% {\n",
              "      border-color: transparent;\n",
              "      border-left-color: var(--fill-color);\n",
              "      border-top-color: var(--fill-color);\n",
              "      border-right-color: var(--fill-color);\n",
              "    }\n",
              "    40% {\n",
              "      border-color: transparent;\n",
              "      border-right-color: var(--fill-color);\n",
              "      border-top-color: var(--fill-color);\n",
              "    }\n",
              "    60% {\n",
              "      border-color: transparent;\n",
              "      border-right-color: var(--fill-color);\n",
              "    }\n",
              "    80% {\n",
              "      border-color: transparent;\n",
              "      border-right-color: var(--fill-color);\n",
              "      border-bottom-color: var(--fill-color);\n",
              "    }\n",
              "    90% {\n",
              "      border-color: transparent;\n",
              "      border-bottom-color: var(--fill-color);\n",
              "    }\n",
              "  }\n",
              "</style>\n",
              "\n",
              "  <script>\n",
              "    async function quickchart(key) {\n",
              "      const quickchartButtonEl =\n",
              "        document.querySelector('#' + key + ' button');\n",
              "      quickchartButtonEl.disabled = true;  // To prevent multiple clicks.\n",
              "      quickchartButtonEl.classList.add('colab-df-spinner');\n",
              "      try {\n",
              "        const charts = await google.colab.kernel.invokeFunction(\n",
              "            'suggestCharts', [key], {});\n",
              "      } catch (error) {\n",
              "        console.error('Error during call to suggestCharts:', error);\n",
              "      }\n",
              "      quickchartButtonEl.classList.remove('colab-df-spinner');\n",
              "      quickchartButtonEl.classList.add('colab-df-quickchart-complete');\n",
              "    }\n",
              "    (() => {\n",
              "      let quickchartButtonEl =\n",
              "        document.querySelector('#df-55efc1fb-d720-4012-a648-6cc3a4b86191 button');\n",
              "      quickchartButtonEl.style.display =\n",
              "        google.colab.kernel.accessAllowed ? 'block' : 'none';\n",
              "    })();\n",
              "  </script>\n",
              "</div>\n",
              "    </div>\n",
              "  </div>\n"
            ],
            "application/vnd.google.colaboratory.intrinsic+json": {
              "type": "dataframe",
              "variable_name": "data",
              "summary": "{\n  \"name\": \"data\",\n  \"rows\": 30,\n  \"fields\": [\n    {\n      \"column\": \"num\",\n      \"properties\": {\n        \"dtype\": \"number\",\n        \"std\": 8,\n        \"min\": 1,\n        \"max\": 30,\n        \"num_unique_values\": 30,\n        \"samples\": [\n          28,\n          16,\n          24\n        ],\n        \"semantic_type\": \"\",\n        \"description\": \"\"\n      }\n    },\n    {\n      \"column\": \"N\",\n      \"properties\": {\n        \"dtype\": \"number\",\n        \"std\": 1,\n        \"min\": 3,\n        \"max\": 6,\n        \"num_unique_values\": 4,\n        \"samples\": [\n          3,\n          5,\n          4\n        ],\n        \"semantic_type\": \"\",\n        \"description\": \"\"\n      }\n    },\n    {\n      \"column\": \"t\",\n      \"properties\": {\n        \"dtype\": \"number\",\n        \"std\": 37,\n        \"min\": 173,\n        \"max\": 287,\n        \"num_unique_values\": 26,\n        \"samples\": [\n          229,\n          278,\n          268\n        ],\n        \"semantic_type\": \"\",\n        \"description\": \"\"\n      }\n    },\n    {\n      \"column\": \"sigma_t\",\n      \"properties\": {\n        \"dtype\": \"number\",\n        \"std\": 0,\n        \"min\": 1,\n        \"max\": 1,\n        \"num_unique_values\": 1,\n        \"samples\": [\n          1\n        ],\n        \"semantic_type\": \"\",\n        \"description\": \"\"\n      }\n    },\n    {\n      \"column\": \"mass\",\n      \"properties\": {\n        \"dtype\": \"number\",\n        \"std\": 0.15932688872649325,\n        \"min\": 0.142,\n        \"max\": 0.614,\n        \"num_unique_values\": 6,\n        \"samples\": [\n          0.18\n        ],\n        \"semantic_type\": \"\",\n        \"description\": \"\"\n      }\n    },\n    {\n      \"column\": \"length\",\n      \"properties\": {\n        \"dtype\": \"number\",\n        \"std\": 0.06010049055970537,\n        \"min\": 1.08,\n        \"max\": 1.22,\n        \"num_unique_values\": 5,\n        \"samples\": [\n          1.08\n        ],\n        \"semantic_type\": \"\",\n        \"description\": \"\"\n      }\n    },\n    {\n      \"column\": \"phi\",\n      \"properties\": {\n        \"dtype\": \"number\",\n        \"std\": 0.00858359836662575,\n        \"min\": 0.14,\n        \"max\": 0.18,\n        \"num_unique_values\": 5,\n        \"samples\": [\n          0.18\n        ],\n        \"semantic_type\": \"\",\n        \"description\": \"\"\n      }\n    }\n  ]\n}"
            }
          },
          "metadata": {},
          "execution_count": 4
        }
      ],
      "source": [
        "new_names=[]\n",
        "for name in data.columns:\n",
        "  new_names.append(name.split(',')[0])\n",
        "new_names[0] = 'num'\n",
        "data.columns = new_names\n",
        "\n",
        "data.loc[data.index,'mass'] /= 1000\n",
        "data.loc[data.index,'length'] /= 100\n",
        "\n",
        "assert data.mass.mean() < 0.3\n",
        "assert np.allclose(data.length.mean(), 1.155)\n",
        "assert all(' ' not in column for column in data.columns)\n",
        "\n",
        "data.head()"
      ]
    },
    {
      "cell_type": "markdown",
      "metadata": {
        "id": "OQ-9VXH8l3wP"
      },
      "source": [
        "Добавьте в датафрейм колонки с соответствующими именами и значениями, вычисленными по формулам:\n",
        "\n",
        "`omega`: $\\Omega = 2 \\pi \\cdot \\frac{N}{t}$\n",
        "\n",
        "`sigma_omega`: $\\sigma_{\\Omega} = \\Omega / t \\cdot \\sigma_t$\n",
        "\n",
        "`omega_down`: $\\Omega_{down} = \\varphi / t$\n",
        "\n",
        "`sigma_down`: $\\Omega_{down} \\cdot \\sigma_t / t$\n",
        "\n",
        "`momentum`: $M = m \\cdot g \\cdot l$ (`g = 9.8 м/с^2`)\n",
        "\n",
        "`momentum_down`: $M_{down} = m \\cdot \\frac{\\varphi}{t^2} \\cdot l^2$\n",
        "\n",
        "`sigma_momentum`: $\\sigma_{M} = M_{down} \\cdot 2 \\cdot \\frac{\\sigma_t}{t}$\n"
      ]
    },
    {
      "cell_type": "code",
      "execution_count": 5,
      "metadata": {
        "id": "32p3uQkhHxu1",
        "colab": {
          "base_uri": "https://localhost:8080/",
          "height": 224
        },
        "outputId": "a01bfb2c-a4e2-4b6c-e98f-45fad88d337f"
      },
      "outputs": [
        {
          "output_type": "execute_result",
          "data": {
            "text/plain": [
              "   num  N    t  sigma_t  mass  length   phi     omega  sigma_omega  \\\n",
              "0    1  4  268        1  0.18    1.21  0.16  0.093779     0.000350   \n",
              "1    2  4  264        1  0.18    1.21  0.18  0.095200     0.000361   \n",
              "2    3  4  275        1  0.18    1.21  0.16  0.091392     0.000332   \n",
              "3    4  4  263        1  0.18    1.21  0.17  0.095562     0.000363   \n",
              "4    5  4  267        1  0.18    1.21  0.17  0.094130     0.000353   \n",
              "\n",
              "   omega_down  sigma_down  momentum  momentum_down  sigma_momentum  \n",
              "0    0.000597    0.000002  2.136618   5.870751e-07    4.381157e-09  \n",
              "1    0.000682    0.000003  2.136618   6.806250e-07    5.156250e-09  \n",
              "2    0.000582    0.000002  2.136618   5.575680e-07    4.055040e-09  \n",
              "3    0.000646    0.000002  2.136618   6.477101e-07    4.925552e-09  \n",
              "4    0.000637    0.000002  2.136618   6.284484e-07    4.707479e-09  "
            ],
            "text/html": [
              "\n",
              "  <div id=\"df-6e379c9e-6c21-4bb7-910a-97ca38112cc5\" class=\"colab-df-container\">\n",
              "    <div>\n",
              "<style scoped>\n",
              "    .dataframe tbody tr th:only-of-type {\n",
              "        vertical-align: middle;\n",
              "    }\n",
              "\n",
              "    .dataframe tbody tr th {\n",
              "        vertical-align: top;\n",
              "    }\n",
              "\n",
              "    .dataframe thead th {\n",
              "        text-align: right;\n",
              "    }\n",
              "</style>\n",
              "<table border=\"1\" class=\"dataframe\">\n",
              "  <thead>\n",
              "    <tr style=\"text-align: right;\">\n",
              "      <th></th>\n",
              "      <th>num</th>\n",
              "      <th>N</th>\n",
              "      <th>t</th>\n",
              "      <th>sigma_t</th>\n",
              "      <th>mass</th>\n",
              "      <th>length</th>\n",
              "      <th>phi</th>\n",
              "      <th>omega</th>\n",
              "      <th>sigma_omega</th>\n",
              "      <th>omega_down</th>\n",
              "      <th>sigma_down</th>\n",
              "      <th>momentum</th>\n",
              "      <th>momentum_down</th>\n",
              "      <th>sigma_momentum</th>\n",
              "    </tr>\n",
              "  </thead>\n",
              "  <tbody>\n",
              "    <tr>\n",
              "      <th>0</th>\n",
              "      <td>1</td>\n",
              "      <td>4</td>\n",
              "      <td>268</td>\n",
              "      <td>1</td>\n",
              "      <td>0.18</td>\n",
              "      <td>1.21</td>\n",
              "      <td>0.16</td>\n",
              "      <td>0.093779</td>\n",
              "      <td>0.000350</td>\n",
              "      <td>0.000597</td>\n",
              "      <td>0.000002</td>\n",
              "      <td>2.136618</td>\n",
              "      <td>5.870751e-07</td>\n",
              "      <td>4.381157e-09</td>\n",
              "    </tr>\n",
              "    <tr>\n",
              "      <th>1</th>\n",
              "      <td>2</td>\n",
              "      <td>4</td>\n",
              "      <td>264</td>\n",
              "      <td>1</td>\n",
              "      <td>0.18</td>\n",
              "      <td>1.21</td>\n",
              "      <td>0.18</td>\n",
              "      <td>0.095200</td>\n",
              "      <td>0.000361</td>\n",
              "      <td>0.000682</td>\n",
              "      <td>0.000003</td>\n",
              "      <td>2.136618</td>\n",
              "      <td>6.806250e-07</td>\n",
              "      <td>5.156250e-09</td>\n",
              "    </tr>\n",
              "    <tr>\n",
              "      <th>2</th>\n",
              "      <td>3</td>\n",
              "      <td>4</td>\n",
              "      <td>275</td>\n",
              "      <td>1</td>\n",
              "      <td>0.18</td>\n",
              "      <td>1.21</td>\n",
              "      <td>0.16</td>\n",
              "      <td>0.091392</td>\n",
              "      <td>0.000332</td>\n",
              "      <td>0.000582</td>\n",
              "      <td>0.000002</td>\n",
              "      <td>2.136618</td>\n",
              "      <td>5.575680e-07</td>\n",
              "      <td>4.055040e-09</td>\n",
              "    </tr>\n",
              "    <tr>\n",
              "      <th>3</th>\n",
              "      <td>4</td>\n",
              "      <td>4</td>\n",
              "      <td>263</td>\n",
              "      <td>1</td>\n",
              "      <td>0.18</td>\n",
              "      <td>1.21</td>\n",
              "      <td>0.17</td>\n",
              "      <td>0.095562</td>\n",
              "      <td>0.000363</td>\n",
              "      <td>0.000646</td>\n",
              "      <td>0.000002</td>\n",
              "      <td>2.136618</td>\n",
              "      <td>6.477101e-07</td>\n",
              "      <td>4.925552e-09</td>\n",
              "    </tr>\n",
              "    <tr>\n",
              "      <th>4</th>\n",
              "      <td>5</td>\n",
              "      <td>4</td>\n",
              "      <td>267</td>\n",
              "      <td>1</td>\n",
              "      <td>0.18</td>\n",
              "      <td>1.21</td>\n",
              "      <td>0.17</td>\n",
              "      <td>0.094130</td>\n",
              "      <td>0.000353</td>\n",
              "      <td>0.000637</td>\n",
              "      <td>0.000002</td>\n",
              "      <td>2.136618</td>\n",
              "      <td>6.284484e-07</td>\n",
              "      <td>4.707479e-09</td>\n",
              "    </tr>\n",
              "  </tbody>\n",
              "</table>\n",
              "</div>\n",
              "    <div class=\"colab-df-buttons\">\n",
              "\n",
              "  <div class=\"colab-df-container\">\n",
              "    <button class=\"colab-df-convert\" onclick=\"convertToInteractive('df-6e379c9e-6c21-4bb7-910a-97ca38112cc5')\"\n",
              "            title=\"Convert this dataframe to an interactive table.\"\n",
              "            style=\"display:none;\">\n",
              "\n",
              "  <svg xmlns=\"http://www.w3.org/2000/svg\" height=\"24px\" viewBox=\"0 -960 960 960\">\n",
              "    <path d=\"M120-120v-720h720v720H120Zm60-500h600v-160H180v160Zm220 220h160v-160H400v160Zm0 220h160v-160H400v160ZM180-400h160v-160H180v160Zm440 0h160v-160H620v160ZM180-180h160v-160H180v160Zm440 0h160v-160H620v160Z\"/>\n",
              "  </svg>\n",
              "    </button>\n",
              "\n",
              "  <style>\n",
              "    .colab-df-container {\n",
              "      display:flex;\n",
              "      gap: 12px;\n",
              "    }\n",
              "\n",
              "    .colab-df-convert {\n",
              "      background-color: #E8F0FE;\n",
              "      border: none;\n",
              "      border-radius: 50%;\n",
              "      cursor: pointer;\n",
              "      display: none;\n",
              "      fill: #1967D2;\n",
              "      height: 32px;\n",
              "      padding: 0 0 0 0;\n",
              "      width: 32px;\n",
              "    }\n",
              "\n",
              "    .colab-df-convert:hover {\n",
              "      background-color: #E2EBFA;\n",
              "      box-shadow: 0px 1px 2px rgba(60, 64, 67, 0.3), 0px 1px 3px 1px rgba(60, 64, 67, 0.15);\n",
              "      fill: #174EA6;\n",
              "    }\n",
              "\n",
              "    .colab-df-buttons div {\n",
              "      margin-bottom: 4px;\n",
              "    }\n",
              "\n",
              "    [theme=dark] .colab-df-convert {\n",
              "      background-color: #3B4455;\n",
              "      fill: #D2E3FC;\n",
              "    }\n",
              "\n",
              "    [theme=dark] .colab-df-convert:hover {\n",
              "      background-color: #434B5C;\n",
              "      box-shadow: 0px 1px 3px 1px rgba(0, 0, 0, 0.15);\n",
              "      filter: drop-shadow(0px 1px 2px rgba(0, 0, 0, 0.3));\n",
              "      fill: #FFFFFF;\n",
              "    }\n",
              "  </style>\n",
              "\n",
              "    <script>\n",
              "      const buttonEl =\n",
              "        document.querySelector('#df-6e379c9e-6c21-4bb7-910a-97ca38112cc5 button.colab-df-convert');\n",
              "      buttonEl.style.display =\n",
              "        google.colab.kernel.accessAllowed ? 'block' : 'none';\n",
              "\n",
              "      async function convertToInteractive(key) {\n",
              "        const element = document.querySelector('#df-6e379c9e-6c21-4bb7-910a-97ca38112cc5');\n",
              "        const dataTable =\n",
              "          await google.colab.kernel.invokeFunction('convertToInteractive',\n",
              "                                                    [key], {});\n",
              "        if (!dataTable) return;\n",
              "\n",
              "        const docLinkHtml = 'Like what you see? Visit the ' +\n",
              "          '<a target=\"_blank\" href=https://colab.research.google.com/notebooks/data_table.ipynb>data table notebook</a>'\n",
              "          + ' to learn more about interactive tables.';\n",
              "        element.innerHTML = '';\n",
              "        dataTable['output_type'] = 'display_data';\n",
              "        await google.colab.output.renderOutput(dataTable, element);\n",
              "        const docLink = document.createElement('div');\n",
              "        docLink.innerHTML = docLinkHtml;\n",
              "        element.appendChild(docLink);\n",
              "      }\n",
              "    </script>\n",
              "  </div>\n",
              "\n",
              "\n",
              "<div id=\"df-6181cade-5fc4-4106-aada-019899e825ba\">\n",
              "  <button class=\"colab-df-quickchart\" onclick=\"quickchart('df-6181cade-5fc4-4106-aada-019899e825ba')\"\n",
              "            title=\"Suggest charts\"\n",
              "            style=\"display:none;\">\n",
              "\n",
              "<svg xmlns=\"http://www.w3.org/2000/svg\" height=\"24px\"viewBox=\"0 0 24 24\"\n",
              "     width=\"24px\">\n",
              "    <g>\n",
              "        <path d=\"M19 3H5c-1.1 0-2 .9-2 2v14c0 1.1.9 2 2 2h14c1.1 0 2-.9 2-2V5c0-1.1-.9-2-2-2zM9 17H7v-7h2v7zm4 0h-2V7h2v10zm4 0h-2v-4h2v4z\"/>\n",
              "    </g>\n",
              "</svg>\n",
              "  </button>\n",
              "\n",
              "<style>\n",
              "  .colab-df-quickchart {\n",
              "      --bg-color: #E8F0FE;\n",
              "      --fill-color: #1967D2;\n",
              "      --hover-bg-color: #E2EBFA;\n",
              "      --hover-fill-color: #174EA6;\n",
              "      --disabled-fill-color: #AAA;\n",
              "      --disabled-bg-color: #DDD;\n",
              "  }\n",
              "\n",
              "  [theme=dark] .colab-df-quickchart {\n",
              "      --bg-color: #3B4455;\n",
              "      --fill-color: #D2E3FC;\n",
              "      --hover-bg-color: #434B5C;\n",
              "      --hover-fill-color: #FFFFFF;\n",
              "      --disabled-bg-color: #3B4455;\n",
              "      --disabled-fill-color: #666;\n",
              "  }\n",
              "\n",
              "  .colab-df-quickchart {\n",
              "    background-color: var(--bg-color);\n",
              "    border: none;\n",
              "    border-radius: 50%;\n",
              "    cursor: pointer;\n",
              "    display: none;\n",
              "    fill: var(--fill-color);\n",
              "    height: 32px;\n",
              "    padding: 0;\n",
              "    width: 32px;\n",
              "  }\n",
              "\n",
              "  .colab-df-quickchart:hover {\n",
              "    background-color: var(--hover-bg-color);\n",
              "    box-shadow: 0 1px 2px rgba(60, 64, 67, 0.3), 0 1px 3px 1px rgba(60, 64, 67, 0.15);\n",
              "    fill: var(--button-hover-fill-color);\n",
              "  }\n",
              "\n",
              "  .colab-df-quickchart-complete:disabled,\n",
              "  .colab-df-quickchart-complete:disabled:hover {\n",
              "    background-color: var(--disabled-bg-color);\n",
              "    fill: var(--disabled-fill-color);\n",
              "    box-shadow: none;\n",
              "  }\n",
              "\n",
              "  .colab-df-spinner {\n",
              "    border: 2px solid var(--fill-color);\n",
              "    border-color: transparent;\n",
              "    border-bottom-color: var(--fill-color);\n",
              "    animation:\n",
              "      spin 1s steps(1) infinite;\n",
              "  }\n",
              "\n",
              "  @keyframes spin {\n",
              "    0% {\n",
              "      border-color: transparent;\n",
              "      border-bottom-color: var(--fill-color);\n",
              "      border-left-color: var(--fill-color);\n",
              "    }\n",
              "    20% {\n",
              "      border-color: transparent;\n",
              "      border-left-color: var(--fill-color);\n",
              "      border-top-color: var(--fill-color);\n",
              "    }\n",
              "    30% {\n",
              "      border-color: transparent;\n",
              "      border-left-color: var(--fill-color);\n",
              "      border-top-color: var(--fill-color);\n",
              "      border-right-color: var(--fill-color);\n",
              "    }\n",
              "    40% {\n",
              "      border-color: transparent;\n",
              "      border-right-color: var(--fill-color);\n",
              "      border-top-color: var(--fill-color);\n",
              "    }\n",
              "    60% {\n",
              "      border-color: transparent;\n",
              "      border-right-color: var(--fill-color);\n",
              "    }\n",
              "    80% {\n",
              "      border-color: transparent;\n",
              "      border-right-color: var(--fill-color);\n",
              "      border-bottom-color: var(--fill-color);\n",
              "    }\n",
              "    90% {\n",
              "      border-color: transparent;\n",
              "      border-bottom-color: var(--fill-color);\n",
              "    }\n",
              "  }\n",
              "</style>\n",
              "\n",
              "  <script>\n",
              "    async function quickchart(key) {\n",
              "      const quickchartButtonEl =\n",
              "        document.querySelector('#' + key + ' button');\n",
              "      quickchartButtonEl.disabled = true;  // To prevent multiple clicks.\n",
              "      quickchartButtonEl.classList.add('colab-df-spinner');\n",
              "      try {\n",
              "        const charts = await google.colab.kernel.invokeFunction(\n",
              "            'suggestCharts', [key], {});\n",
              "      } catch (error) {\n",
              "        console.error('Error during call to suggestCharts:', error);\n",
              "      }\n",
              "      quickchartButtonEl.classList.remove('colab-df-spinner');\n",
              "      quickchartButtonEl.classList.add('colab-df-quickchart-complete');\n",
              "    }\n",
              "    (() => {\n",
              "      let quickchartButtonEl =\n",
              "        document.querySelector('#df-6181cade-5fc4-4106-aada-019899e825ba button');\n",
              "      quickchartButtonEl.style.display =\n",
              "        google.colab.kernel.accessAllowed ? 'block' : 'none';\n",
              "    })();\n",
              "  </script>\n",
              "</div>\n",
              "    </div>\n",
              "  </div>\n"
            ],
            "application/vnd.google.colaboratory.intrinsic+json": {
              "type": "dataframe",
              "variable_name": "data",
              "summary": "{\n  \"name\": \"data\",\n  \"rows\": 30,\n  \"fields\": [\n    {\n      \"column\": \"num\",\n      \"properties\": {\n        \"dtype\": \"number\",\n        \"std\": 8,\n        \"min\": 1,\n        \"max\": 30,\n        \"num_unique_values\": 30,\n        \"samples\": [\n          28,\n          16,\n          24\n        ],\n        \"semantic_type\": \"\",\n        \"description\": \"\"\n      }\n    },\n    {\n      \"column\": \"N\",\n      \"properties\": {\n        \"dtype\": \"number\",\n        \"std\": 1,\n        \"min\": 3,\n        \"max\": 6,\n        \"num_unique_values\": 4,\n        \"samples\": [\n          3,\n          5,\n          4\n        ],\n        \"semantic_type\": \"\",\n        \"description\": \"\"\n      }\n    },\n    {\n      \"column\": \"t\",\n      \"properties\": {\n        \"dtype\": \"number\",\n        \"std\": 37,\n        \"min\": 173,\n        \"max\": 287,\n        \"num_unique_values\": 26,\n        \"samples\": [\n          229,\n          278,\n          268\n        ],\n        \"semantic_type\": \"\",\n        \"description\": \"\"\n      }\n    },\n    {\n      \"column\": \"sigma_t\",\n      \"properties\": {\n        \"dtype\": \"number\",\n        \"std\": 0,\n        \"min\": 1,\n        \"max\": 1,\n        \"num_unique_values\": 1,\n        \"samples\": [\n          1\n        ],\n        \"semantic_type\": \"\",\n        \"description\": \"\"\n      }\n    },\n    {\n      \"column\": \"mass\",\n      \"properties\": {\n        \"dtype\": \"number\",\n        \"std\": 0.15932688872649325,\n        \"min\": 0.142,\n        \"max\": 0.614,\n        \"num_unique_values\": 6,\n        \"samples\": [\n          0.18\n        ],\n        \"semantic_type\": \"\",\n        \"description\": \"\"\n      }\n    },\n    {\n      \"column\": \"length\",\n      \"properties\": {\n        \"dtype\": \"number\",\n        \"std\": 0.06010049055970537,\n        \"min\": 1.08,\n        \"max\": 1.22,\n        \"num_unique_values\": 5,\n        \"samples\": [\n          1.08\n        ],\n        \"semantic_type\": \"\",\n        \"description\": \"\"\n      }\n    },\n    {\n      \"column\": \"phi\",\n      \"properties\": {\n        \"dtype\": \"number\",\n        \"std\": 0.00858359836662575,\n        \"min\": 0.14,\n        \"max\": 0.18,\n        \"num_unique_values\": 5,\n        \"samples\": [\n          0.18\n        ],\n        \"semantic_type\": \"\",\n        \"description\": \"\"\n      }\n    },\n    {\n      \"column\": \"omega\",\n      \"properties\": {\n        \"dtype\": \"number\",\n        \"std\": 0.04302959547480325,\n        \"min\": 0.06567789519699915,\n        \"max\": 0.18944277308079155,\n        \"num_unique_values\": 27,\n        \"samples\": [\n          0.08231247127309502\n        ],\n        \"semantic_type\": \"\",\n        \"description\": \"\"\n      }\n    },\n    {\n      \"column\": \"sigma_omega\",\n      \"properties\": {\n        \"dtype\": \"number\",\n        \"std\": 0.00026492810433448457,\n        \"min\": 0.00022884284040766256,\n        \"max\": 0.0009519737340743294,\n        \"num_unique_values\": 27,\n        \"samples\": [\n          0.00035944310599604813\n        ],\n        \"semantic_type\": \"\",\n        \"description\": \"\"\n      }\n    },\n    {\n      \"column\": \"omega_down\",\n      \"properties\": {\n        \"dtype\": \"number\",\n        \"std\": 0.0001312397982415917,\n        \"min\": 0.0004912280701754386,\n        \"max\": 0.0009714285714285715,\n        \"num_unique_values\": 29,\n        \"samples\": [\n          0.0008133971291866029\n        ],\n        \"semantic_type\": \"\",\n        \"description\": \"\"\n      }\n    },\n    {\n      \"column\": \"sigma_down\",\n      \"properties\": {\n        \"dtype\": \"number\",\n        \"std\": 1.1489029088420938e-06,\n        \"min\": 1.7236072637734689e-06,\n        \"max\": 5.551020408163266e-06,\n        \"num_unique_values\": 29,\n        \"samples\": [\n          3.891852292758865e-06\n        ],\n        \"semantic_type\": \"\",\n        \"description\": \"\"\n      }\n    },\n    {\n      \"column\": \"momentum\",\n      \"properties\": {\n        \"dtype\": \"number\",\n        \"std\": 1.6913662445019477,\n        \"min\": 1.6855542,\n        \"max\": 6.6859074000000005,\n        \"num_unique_values\": 6,\n        \"samples\": [\n          2.136618\n        ],\n        \"semantic_type\": \"\",\n        \"description\": \"\"\n      }\n    },\n    {\n      \"column\": \"momentum_down\",\n      \"properties\": {\n        \"dtype\": \"number\",\n        \"std\": 9.539146250107345e-07,\n        \"min\": 3.5834174207448446e-07,\n        \"max\": 3.2475593545617537e-06,\n        \"num_unique_values\": 30,\n        \"samples\": [\n          1.6369973628322723e-06\n        ],\n        \"semantic_type\": \"\",\n        \"description\": \"\"\n      }\n    },\n    {\n      \"column\": \"sigma_momentum\",\n      \"properties\": {\n        \"dtype\": \"number\",\n        \"std\": 1.04444110585045e-08,\n        \"min\": 2.514678891750768e-09,\n        \"max\": 3.26387874830327e-08,\n        \"num_unique_values\": 30,\n        \"samples\": [\n          1.581639964089152e-08\n        ],\n        \"semantic_type\": \"\",\n        \"description\": \"\"\n      }\n    }\n  ]\n}"
            }
          },
          "metadata": {},
          "execution_count": 5
        }
      ],
      "source": [
        "g = 9.81\n",
        "data['omega'] = 2.0 * np.pi * data['N'] / data['t']\n",
        "data['sigma_omega'] = data['omega'] * data['sigma_t'] / data['t']\n",
        "data['omega_down'] = data['phi'] / data['t']\n",
        "data['sigma_down'] = data['omega_down'] * data['sigma_t'] / data['t']\n",
        "data['momentum'] = data['mass'] * g * data['length']\n",
        "data['momentum_down'] = data['mass'] * data['phi'] * data['length'] * data['length'] / (data['t'] * data['t'])\n",
        "data['sigma_momentum'] = data['momentum_down']*2.0*data['sigma_t']/data['t']\n",
        "\n",
        "assert np.allclose(data.sigma_omega[0:5], 3.5e-04, atol=3e-5)\n",
        "\n",
        "\n",
        "data.head()\n"
      ]
    },
    {
      "cell_type": "markdown",
      "metadata": {
        "id": "rCFFceZCHxu1"
      },
      "source": [
        "Возможно, вы уже задались вопросом, для чего так много раз повторяются эксперименты с одной и той же массой. Чтобы получить более стабильные результаты, конечно же! Посчитайте теперь средние значения колонок `omega`, `sigma_omega`, `momentum` и`momentum_down` для каждой уникальной массы.\n",
        "\n",
        "**Подсказка:** функция groupby вам поможет. Никаких циклов!"
      ]
    },
    {
      "cell_type": "code",
      "execution_count": 6,
      "metadata": {
        "id": "LfWPdeWkHxu1",
        "colab": {
          "base_uri": "https://localhost:8080/",
          "height": 286
        },
        "outputId": "8effffc2-80d6-4a37-fcd4-66f9f25652c7"
      },
      "outputs": [
        {
          "output_type": "execute_result",
          "data": {
            "text/plain": [
              "        num    N      t  sigma_t  length    phi     omega  sigma_omega  \\\n",
              "mass                                                                     \n",
              "0.142  18.0  3.0  282.8      1.0    1.21  0.158  0.066661     0.000236   \n",
              "0.180   3.0  4.0  267.4      1.0    1.21  0.168  0.094012     0.000352   \n",
              "0.216   8.0  3.0  230.8      1.0    1.08  0.164  0.081687     0.000354   \n",
              "0.273  23.0  4.0  175.4      1.0    1.22  0.164  0.143300     0.000817   \n",
              "0.341  28.0  5.0  208.4      1.0    1.10  0.166  0.150752     0.000723   \n",
              "0.614  13.0  6.0  203.6      1.0    1.11  0.166  0.185194     0.000910   \n",
              "\n",
              "       omega_down  sigma_down  momentum  momentum_down  sigma_momentum  \n",
              "mass                                                                    \n",
              "0.142    0.000559    0.000002  1.685554   4.108862e-07    2.906917e-09  \n",
              "0.180    0.000629    0.000002  2.136618   6.202853e-07    4.645096e-09  \n",
              "0.216    0.000710    0.000003  2.288477   7.755223e-07    6.721701e-09  \n",
              "0.273    0.000935    0.000005  3.267319   2.166527e-06    2.470970e-08  \n",
              "0.341    0.000797    0.000004  3.679731   1.577406e-06    1.514038e-08  \n",
              "0.614    0.000815    0.000004  6.685907   3.030996e-06    2.978946e-08  "
            ],
            "text/html": [
              "\n",
              "  <div id=\"df-9626540c-ef83-4663-bae3-6138b42f8291\" class=\"colab-df-container\">\n",
              "    <div>\n",
              "<style scoped>\n",
              "    .dataframe tbody tr th:only-of-type {\n",
              "        vertical-align: middle;\n",
              "    }\n",
              "\n",
              "    .dataframe tbody tr th {\n",
              "        vertical-align: top;\n",
              "    }\n",
              "\n",
              "    .dataframe thead th {\n",
              "        text-align: right;\n",
              "    }\n",
              "</style>\n",
              "<table border=\"1\" class=\"dataframe\">\n",
              "  <thead>\n",
              "    <tr style=\"text-align: right;\">\n",
              "      <th></th>\n",
              "      <th>num</th>\n",
              "      <th>N</th>\n",
              "      <th>t</th>\n",
              "      <th>sigma_t</th>\n",
              "      <th>length</th>\n",
              "      <th>phi</th>\n",
              "      <th>omega</th>\n",
              "      <th>sigma_omega</th>\n",
              "      <th>omega_down</th>\n",
              "      <th>sigma_down</th>\n",
              "      <th>momentum</th>\n",
              "      <th>momentum_down</th>\n",
              "      <th>sigma_momentum</th>\n",
              "    </tr>\n",
              "    <tr>\n",
              "      <th>mass</th>\n",
              "      <th></th>\n",
              "      <th></th>\n",
              "      <th></th>\n",
              "      <th></th>\n",
              "      <th></th>\n",
              "      <th></th>\n",
              "      <th></th>\n",
              "      <th></th>\n",
              "      <th></th>\n",
              "      <th></th>\n",
              "      <th></th>\n",
              "      <th></th>\n",
              "      <th></th>\n",
              "    </tr>\n",
              "  </thead>\n",
              "  <tbody>\n",
              "    <tr>\n",
              "      <th>0.142</th>\n",
              "      <td>18.0</td>\n",
              "      <td>3.0</td>\n",
              "      <td>282.8</td>\n",
              "      <td>1.0</td>\n",
              "      <td>1.21</td>\n",
              "      <td>0.158</td>\n",
              "      <td>0.066661</td>\n",
              "      <td>0.000236</td>\n",
              "      <td>0.000559</td>\n",
              "      <td>0.000002</td>\n",
              "      <td>1.685554</td>\n",
              "      <td>4.108862e-07</td>\n",
              "      <td>2.906917e-09</td>\n",
              "    </tr>\n",
              "    <tr>\n",
              "      <th>0.180</th>\n",
              "      <td>3.0</td>\n",
              "      <td>4.0</td>\n",
              "      <td>267.4</td>\n",
              "      <td>1.0</td>\n",
              "      <td>1.21</td>\n",
              "      <td>0.168</td>\n",
              "      <td>0.094012</td>\n",
              "      <td>0.000352</td>\n",
              "      <td>0.000629</td>\n",
              "      <td>0.000002</td>\n",
              "      <td>2.136618</td>\n",
              "      <td>6.202853e-07</td>\n",
              "      <td>4.645096e-09</td>\n",
              "    </tr>\n",
              "    <tr>\n",
              "      <th>0.216</th>\n",
              "      <td>8.0</td>\n",
              "      <td>3.0</td>\n",
              "      <td>230.8</td>\n",
              "      <td>1.0</td>\n",
              "      <td>1.08</td>\n",
              "      <td>0.164</td>\n",
              "      <td>0.081687</td>\n",
              "      <td>0.000354</td>\n",
              "      <td>0.000710</td>\n",
              "      <td>0.000003</td>\n",
              "      <td>2.288477</td>\n",
              "      <td>7.755223e-07</td>\n",
              "      <td>6.721701e-09</td>\n",
              "    </tr>\n",
              "    <tr>\n",
              "      <th>0.273</th>\n",
              "      <td>23.0</td>\n",
              "      <td>4.0</td>\n",
              "      <td>175.4</td>\n",
              "      <td>1.0</td>\n",
              "      <td>1.22</td>\n",
              "      <td>0.164</td>\n",
              "      <td>0.143300</td>\n",
              "      <td>0.000817</td>\n",
              "      <td>0.000935</td>\n",
              "      <td>0.000005</td>\n",
              "      <td>3.267319</td>\n",
              "      <td>2.166527e-06</td>\n",
              "      <td>2.470970e-08</td>\n",
              "    </tr>\n",
              "    <tr>\n",
              "      <th>0.341</th>\n",
              "      <td>28.0</td>\n",
              "      <td>5.0</td>\n",
              "      <td>208.4</td>\n",
              "      <td>1.0</td>\n",
              "      <td>1.10</td>\n",
              "      <td>0.166</td>\n",
              "      <td>0.150752</td>\n",
              "      <td>0.000723</td>\n",
              "      <td>0.000797</td>\n",
              "      <td>0.000004</td>\n",
              "      <td>3.679731</td>\n",
              "      <td>1.577406e-06</td>\n",
              "      <td>1.514038e-08</td>\n",
              "    </tr>\n",
              "    <tr>\n",
              "      <th>0.614</th>\n",
              "      <td>13.0</td>\n",
              "      <td>6.0</td>\n",
              "      <td>203.6</td>\n",
              "      <td>1.0</td>\n",
              "      <td>1.11</td>\n",
              "      <td>0.166</td>\n",
              "      <td>0.185194</td>\n",
              "      <td>0.000910</td>\n",
              "      <td>0.000815</td>\n",
              "      <td>0.000004</td>\n",
              "      <td>6.685907</td>\n",
              "      <td>3.030996e-06</td>\n",
              "      <td>2.978946e-08</td>\n",
              "    </tr>\n",
              "  </tbody>\n",
              "</table>\n",
              "</div>\n",
              "    <div class=\"colab-df-buttons\">\n",
              "\n",
              "  <div class=\"colab-df-container\">\n",
              "    <button class=\"colab-df-convert\" onclick=\"convertToInteractive('df-9626540c-ef83-4663-bae3-6138b42f8291')\"\n",
              "            title=\"Convert this dataframe to an interactive table.\"\n",
              "            style=\"display:none;\">\n",
              "\n",
              "  <svg xmlns=\"http://www.w3.org/2000/svg\" height=\"24px\" viewBox=\"0 -960 960 960\">\n",
              "    <path d=\"M120-120v-720h720v720H120Zm60-500h600v-160H180v160Zm220 220h160v-160H400v160Zm0 220h160v-160H400v160ZM180-400h160v-160H180v160Zm440 0h160v-160H620v160ZM180-180h160v-160H180v160Zm440 0h160v-160H620v160Z\"/>\n",
              "  </svg>\n",
              "    </button>\n",
              "\n",
              "  <style>\n",
              "    .colab-df-container {\n",
              "      display:flex;\n",
              "      gap: 12px;\n",
              "    }\n",
              "\n",
              "    .colab-df-convert {\n",
              "      background-color: #E8F0FE;\n",
              "      border: none;\n",
              "      border-radius: 50%;\n",
              "      cursor: pointer;\n",
              "      display: none;\n",
              "      fill: #1967D2;\n",
              "      height: 32px;\n",
              "      padding: 0 0 0 0;\n",
              "      width: 32px;\n",
              "    }\n",
              "\n",
              "    .colab-df-convert:hover {\n",
              "      background-color: #E2EBFA;\n",
              "      box-shadow: 0px 1px 2px rgba(60, 64, 67, 0.3), 0px 1px 3px 1px rgba(60, 64, 67, 0.15);\n",
              "      fill: #174EA6;\n",
              "    }\n",
              "\n",
              "    .colab-df-buttons div {\n",
              "      margin-bottom: 4px;\n",
              "    }\n",
              "\n",
              "    [theme=dark] .colab-df-convert {\n",
              "      background-color: #3B4455;\n",
              "      fill: #D2E3FC;\n",
              "    }\n",
              "\n",
              "    [theme=dark] .colab-df-convert:hover {\n",
              "      background-color: #434B5C;\n",
              "      box-shadow: 0px 1px 3px 1px rgba(0, 0, 0, 0.15);\n",
              "      filter: drop-shadow(0px 1px 2px rgba(0, 0, 0, 0.3));\n",
              "      fill: #FFFFFF;\n",
              "    }\n",
              "  </style>\n",
              "\n",
              "    <script>\n",
              "      const buttonEl =\n",
              "        document.querySelector('#df-9626540c-ef83-4663-bae3-6138b42f8291 button.colab-df-convert');\n",
              "      buttonEl.style.display =\n",
              "        google.colab.kernel.accessAllowed ? 'block' : 'none';\n",
              "\n",
              "      async function convertToInteractive(key) {\n",
              "        const element = document.querySelector('#df-9626540c-ef83-4663-bae3-6138b42f8291');\n",
              "        const dataTable =\n",
              "          await google.colab.kernel.invokeFunction('convertToInteractive',\n",
              "                                                    [key], {});\n",
              "        if (!dataTable) return;\n",
              "\n",
              "        const docLinkHtml = 'Like what you see? Visit the ' +\n",
              "          '<a target=\"_blank\" href=https://colab.research.google.com/notebooks/data_table.ipynb>data table notebook</a>'\n",
              "          + ' to learn more about interactive tables.';\n",
              "        element.innerHTML = '';\n",
              "        dataTable['output_type'] = 'display_data';\n",
              "        await google.colab.output.renderOutput(dataTable, element);\n",
              "        const docLink = document.createElement('div');\n",
              "        docLink.innerHTML = docLinkHtml;\n",
              "        element.appendChild(docLink);\n",
              "      }\n",
              "    </script>\n",
              "  </div>\n",
              "\n",
              "\n",
              "<div id=\"df-6a61a2e8-1c5e-4e31-abaf-22568132c360\">\n",
              "  <button class=\"colab-df-quickchart\" onclick=\"quickchart('df-6a61a2e8-1c5e-4e31-abaf-22568132c360')\"\n",
              "            title=\"Suggest charts\"\n",
              "            style=\"display:none;\">\n",
              "\n",
              "<svg xmlns=\"http://www.w3.org/2000/svg\" height=\"24px\"viewBox=\"0 0 24 24\"\n",
              "     width=\"24px\">\n",
              "    <g>\n",
              "        <path d=\"M19 3H5c-1.1 0-2 .9-2 2v14c0 1.1.9 2 2 2h14c1.1 0 2-.9 2-2V5c0-1.1-.9-2-2-2zM9 17H7v-7h2v7zm4 0h-2V7h2v10zm4 0h-2v-4h2v4z\"/>\n",
              "    </g>\n",
              "</svg>\n",
              "  </button>\n",
              "\n",
              "<style>\n",
              "  .colab-df-quickchart {\n",
              "      --bg-color: #E8F0FE;\n",
              "      --fill-color: #1967D2;\n",
              "      --hover-bg-color: #E2EBFA;\n",
              "      --hover-fill-color: #174EA6;\n",
              "      --disabled-fill-color: #AAA;\n",
              "      --disabled-bg-color: #DDD;\n",
              "  }\n",
              "\n",
              "  [theme=dark] .colab-df-quickchart {\n",
              "      --bg-color: #3B4455;\n",
              "      --fill-color: #D2E3FC;\n",
              "      --hover-bg-color: #434B5C;\n",
              "      --hover-fill-color: #FFFFFF;\n",
              "      --disabled-bg-color: #3B4455;\n",
              "      --disabled-fill-color: #666;\n",
              "  }\n",
              "\n",
              "  .colab-df-quickchart {\n",
              "    background-color: var(--bg-color);\n",
              "    border: none;\n",
              "    border-radius: 50%;\n",
              "    cursor: pointer;\n",
              "    display: none;\n",
              "    fill: var(--fill-color);\n",
              "    height: 32px;\n",
              "    padding: 0;\n",
              "    width: 32px;\n",
              "  }\n",
              "\n",
              "  .colab-df-quickchart:hover {\n",
              "    background-color: var(--hover-bg-color);\n",
              "    box-shadow: 0 1px 2px rgba(60, 64, 67, 0.3), 0 1px 3px 1px rgba(60, 64, 67, 0.15);\n",
              "    fill: var(--button-hover-fill-color);\n",
              "  }\n",
              "\n",
              "  .colab-df-quickchart-complete:disabled,\n",
              "  .colab-df-quickchart-complete:disabled:hover {\n",
              "    background-color: var(--disabled-bg-color);\n",
              "    fill: var(--disabled-fill-color);\n",
              "    box-shadow: none;\n",
              "  }\n",
              "\n",
              "  .colab-df-spinner {\n",
              "    border: 2px solid var(--fill-color);\n",
              "    border-color: transparent;\n",
              "    border-bottom-color: var(--fill-color);\n",
              "    animation:\n",
              "      spin 1s steps(1) infinite;\n",
              "  }\n",
              "\n",
              "  @keyframes spin {\n",
              "    0% {\n",
              "      border-color: transparent;\n",
              "      border-bottom-color: var(--fill-color);\n",
              "      border-left-color: var(--fill-color);\n",
              "    }\n",
              "    20% {\n",
              "      border-color: transparent;\n",
              "      border-left-color: var(--fill-color);\n",
              "      border-top-color: var(--fill-color);\n",
              "    }\n",
              "    30% {\n",
              "      border-color: transparent;\n",
              "      border-left-color: var(--fill-color);\n",
              "      border-top-color: var(--fill-color);\n",
              "      border-right-color: var(--fill-color);\n",
              "    }\n",
              "    40% {\n",
              "      border-color: transparent;\n",
              "      border-right-color: var(--fill-color);\n",
              "      border-top-color: var(--fill-color);\n",
              "    }\n",
              "    60% {\n",
              "      border-color: transparent;\n",
              "      border-right-color: var(--fill-color);\n",
              "    }\n",
              "    80% {\n",
              "      border-color: transparent;\n",
              "      border-right-color: var(--fill-color);\n",
              "      border-bottom-color: var(--fill-color);\n",
              "    }\n",
              "    90% {\n",
              "      border-color: transparent;\n",
              "      border-bottom-color: var(--fill-color);\n",
              "    }\n",
              "  }\n",
              "</style>\n",
              "\n",
              "  <script>\n",
              "    async function quickchart(key) {\n",
              "      const quickchartButtonEl =\n",
              "        document.querySelector('#' + key + ' button');\n",
              "      quickchartButtonEl.disabled = true;  // To prevent multiple clicks.\n",
              "      quickchartButtonEl.classList.add('colab-df-spinner');\n",
              "      try {\n",
              "        const charts = await google.colab.kernel.invokeFunction(\n",
              "            'suggestCharts', [key], {});\n",
              "      } catch (error) {\n",
              "        console.error('Error during call to suggestCharts:', error);\n",
              "      }\n",
              "      quickchartButtonEl.classList.remove('colab-df-spinner');\n",
              "      quickchartButtonEl.classList.add('colab-df-quickchart-complete');\n",
              "    }\n",
              "    (() => {\n",
              "      let quickchartButtonEl =\n",
              "        document.querySelector('#df-6a61a2e8-1c5e-4e31-abaf-22568132c360 button');\n",
              "      quickchartButtonEl.style.display =\n",
              "        google.colab.kernel.accessAllowed ? 'block' : 'none';\n",
              "    })();\n",
              "  </script>\n",
              "</div>\n",
              "    </div>\n",
              "  </div>\n"
            ],
            "application/vnd.google.colaboratory.intrinsic+json": {
              "type": "dataframe",
              "variable_name": "grouped_data",
              "summary": "{\n  \"name\": \"grouped_data\",\n  \"rows\": 6,\n  \"fields\": [\n    {\n      \"column\": \"mass\",\n      \"properties\": {\n        \"dtype\": \"number\",\n        \"std\": 0.17160031080002933,\n        \"min\": 0.142,\n        \"max\": 0.614,\n        \"num_unique_values\": 6,\n        \"samples\": [\n          0.142,\n          0.18,\n          0.614\n        ],\n        \"semantic_type\": \"\",\n        \"description\": \"\"\n      }\n    },\n    {\n      \"column\": \"num\",\n      \"properties\": {\n        \"dtype\": \"number\",\n        \"std\": 9.354143466934854,\n        \"min\": 3.0,\n        \"max\": 28.0,\n        \"num_unique_values\": 6,\n        \"samples\": [\n          18.0,\n          3.0,\n          13.0\n        ],\n        \"semantic_type\": \"\",\n        \"description\": \"\"\n      }\n    },\n    {\n      \"column\": \"N\",\n      \"properties\": {\n        \"dtype\": \"number\",\n        \"std\": 1.1690451944500122,\n        \"min\": 3.0,\n        \"max\": 6.0,\n        \"num_unique_values\": 4,\n        \"samples\": [\n          4.0,\n          6.0,\n          3.0\n        ],\n        \"semantic_type\": \"\",\n        \"description\": \"\"\n      }\n    },\n    {\n      \"column\": \"t\",\n      \"properties\": {\n        \"dtype\": \"number\",\n        \"std\": 40.76639138636956,\n        \"min\": 175.4,\n        \"max\": 282.8,\n        \"num_unique_values\": 6,\n        \"samples\": [\n          282.8,\n          267.4,\n          203.6\n        ],\n        \"semantic_type\": \"\",\n        \"description\": \"\"\n      }\n    },\n    {\n      \"column\": \"sigma_t\",\n      \"properties\": {\n        \"dtype\": \"number\",\n        \"std\": 0.0,\n        \"min\": 1.0,\n        \"max\": 1.0,\n        \"num_unique_values\": 1,\n        \"samples\": [\n          1.0\n        ],\n        \"semantic_type\": \"\",\n        \"description\": \"\"\n      }\n    },\n    {\n      \"column\": \"length\",\n      \"properties\": {\n        \"dtype\": \"number\",\n        \"std\": 0.06473020933072897,\n        \"min\": 1.08,\n        \"max\": 1.22,\n        \"num_unique_values\": 5,\n        \"samples\": [\n          1.08\n        ],\n        \"semantic_type\": \"\",\n        \"description\": \"\"\n      }\n    },\n    {\n      \"column\": \"phi\",\n      \"properties\": {\n        \"dtype\": \"number\",\n        \"std\": 0.0034448028487370197,\n        \"min\": 0.158,\n        \"max\": 0.168,\n        \"num_unique_values\": 4,\n        \"samples\": [\n          0.168\n        ],\n        \"semantic_type\": \"\",\n        \"description\": \"\"\n      }\n    },\n    {\n      \"column\": \"omega\",\n      \"properties\": {\n        \"dtype\": \"number\",\n        \"std\": 0.046317818309928836,\n        \"min\": 0.06666112793301555,\n        \"max\": 0.18519433425984533,\n        \"num_unique_values\": 6,\n        \"samples\": [\n          0.06666112793301555\n        ],\n        \"semantic_type\": \"\",\n        \"description\": \"\"\n      }\n    },\n    {\n      \"column\": \"sigma_omega\",\n      \"properties\": {\n        \"dtype\": \"number\",\n        \"std\": 0.00028494959008197124,\n        \"min\": 0.00023577363619902515,\n        \"max\": 0.0009099116312336418,\n        \"num_unique_values\": 6,\n        \"samples\": [\n          0.00023577363619902515\n        ],\n        \"semantic_type\": \"\",\n        \"description\": \"\"\n      }\n    },\n    {\n      \"column\": \"omega_down\",\n      \"properties\": {\n        \"dtype\": \"number\",\n        \"std\": 0.00013641323146335423,\n        \"min\": 0.0005587707812687853,\n        \"max\": 0.0009350710544894477,\n        \"num_unique_values\": 6,\n        \"samples\": [\n          0.0005587707812687853\n        ],\n        \"semantic_type\": \"\",\n        \"description\": \"\"\n      }\n    },\n    {\n      \"column\": \"sigma_down\",\n      \"properties\": {\n        \"dtype\": \"number\",\n        \"std\": 1.2246965034339365e-06,\n        \"min\": 1.976343839103285e-06,\n        \"max\": 5.331896595757277e-06,\n        \"num_unique_values\": 6,\n        \"samples\": [\n          1.976343839103285e-06\n        ],\n        \"semantic_type\": \"\",\n        \"description\": \"\"\n      }\n    },\n    {\n      \"column\": \"momentum\",\n      \"properties\": {\n        \"dtype\": \"number\",\n        \"std\": 1.8216571951734282,\n        \"min\": 1.6855542,\n        \"max\": 6.6859074000000005,\n        \"num_unique_values\": 6,\n        \"samples\": [\n          1.6855542\n        ],\n        \"semantic_type\": \"\",\n        \"description\": \"\"\n      }\n    },\n    {\n      \"column\": \"momentum_down\",\n      \"properties\": {\n        \"dtype\": \"number\",\n        \"std\": 1.0246912854409551e-06,\n        \"min\": 4.108862321060189e-07,\n        \"max\": 3.0309964689268795e-06,\n        \"num_unique_values\": 6,\n        \"samples\": [\n          4.108862321060189e-07\n        ],\n        \"semantic_type\": \"\",\n        \"description\": \"\"\n      }\n    },\n    {\n      \"column\": \"sigma_momentum\",\n      \"properties\": {\n        \"dtype\": \"number\",\n        \"std\": 1.1214705220400857e-08,\n        \"min\": 2.9069174891064343e-09,\n        \"max\": 2.9789455194587055e-08,\n        \"num_unique_values\": 6,\n        \"samples\": [\n          2.9069174891064343e-09\n        ],\n        \"semantic_type\": \"\",\n        \"description\": \"\"\n      }\n    }\n  ]\n}"
            }
          },
          "metadata": {},
          "execution_count": 6
        }
      ],
      "source": [
        "grouped_data = data.groupby(['mass']).mean()\n",
        "\n",
        "assert 0.273 in grouped_data.index\n",
        "assert np.allclose(grouped_data.omega[0.273], 0.1433)\n",
        "\n",
        "grouped_data"
      ]
    },
    {
      "cell_type": "markdown",
      "source": [
        "## 2.3 Простые графики и МНК"
      ],
      "metadata": {
        "id": "Swj1Ipg573q0"
      }
    },
    {
      "cell_type": "markdown",
      "metadata": {
        "id": "R8j4vhCcHxu1"
      },
      "source": [
        "Теперь время для повторного знакомства с методом наименьших квадратов. Конечно же, мы не заставим вас писать МНК самостоятельно! <s>Мы же не звери</s>\n",
        "\n",
        "\n",
        "В numpy функция [np.polyfit](https://numpy.org/devdocs/reference/generated/numpy.polyfit.html) по `x`, `y` и степени `p` вычисляет многочлен заданной степени, являющийся МНК-оценкой зависимости `y(x)`.\n",
        "\n",
        "Функция [np.polyval](https://numpy.org/devdocs/reference/generated/numpy.polyval.html), в свою очередь, вычисляет многочлен `P(x)` по заданным коэффициентам.\n",
        "\n",
        "Ваша задача - построить график зависимости $\\Omega (M)$ угловой скорости от момента инерции. На графике должны присутствовать экспериментальные точки, а также прямая, построенная по методу наименьших квадратов. В легенду вынесите полином с записанными коэффициентами. Не забудьте подписать оси (14 шрифт), задать сетку и сделать правильный заголовок (18 шрифт)!"
      ]
    },
    {
      "cell_type": "markdown",
      "source": [
        "<center><img src='https://drive.google.com/uc?export=view&id=1xumON0195iA4HGSqvpS0FAhPGxuCdKH8' width=600>\n",
        "\n",
        "Пример получившегося графика</center>"
      ],
      "metadata": {
        "id": "kV523sdeI5ze"
      }
    },
    {
      "cell_type": "code",
      "execution_count": 7,
      "metadata": {
        "id": "eAoulUClHxu1",
        "colab": {
          "base_uri": "https://localhost:8080/",
          "height": 728
        },
        "outputId": "4da3e7e9-8c3c-4a83-9703-8350c1900e8f"
      },
      "outputs": [
        {
          "output_type": "display_data",
          "data": {
            "text/plain": [
              "<Figure size 1200x800 with 1 Axes>"
            ],
            "image/png": "[encoded data removed]"
          },
          "metadata": {}
        }
      ],
      "source": [
        "omega_np = np.array(grouped_data.omega)\n",
        "momentum_np = np.array(grouped_data.momentum)\n",
        "\n",
        "coefs = np.polyfit(momentum_np, omega_np, 1)\n",
        "\n",
        "x_lsq = np.linspace(momentum_np.min() * 0.5, momentum_np.max() * 1.1, 100)\n",
        "\n",
        "\n",
        "y_lsq = np.polyval(coefs, x_lsq)\n",
        "\n",
        "fig = plt.figure(figsize=(12, 8))\n",
        "\n",
        "coefs=np.round(coefs,4)\n",
        "plt.plot(x_lsq, y_lsq, label = \"y=\"+str(coefs[0])+\"* x + \"+str(coefs[1]))\n",
        "plt.plot(momentum_np, omega_np,'bs')\n",
        "plt.grid(True)\n",
        "plt.xlabel('M, N*m', {'fontsize': 14})\n",
        "plt.ylabel('Ω, rad/sec', {'fontsize': 14})\n",
        "plt.title('График зависимости Ω(M)', {'fontsize': 18})\n",
        "plt.legend()\n",
        "plt.show()"
      ]
    },
    {
      "cell_type": "markdown",
      "metadata": {
        "id": "soMU7vrHHxu2"
      },
      "source": [
        "`np.polyfit` также умеет оценивать погрешности! Если точнее, он возвращает матрицу ковариаций для метода наименьших квадратов. Не будем углубляться в математику, главное знать, что на диагонали у неё стоят дисперсии полученных коэффициентов. Для получения собственно погрешности $\\sigma$ необходимо взять корень из этих дисперсий.\n",
        "\n",
        "Также стоит упомянуть про параметр `W`, задающий веса точек для оценки. Если известны ошибки $y_{error}$, можно задать веса как $W = 1 / y_{error}$, и прямая получится ещё более точной. Чтобы учесть ещё и ошибки по $x$, нужны, к сожалению, уже другие методы (но скорее всего, вам не понадобятся даже ошибки по $y$)."
      ]
    },
    {
      "cell_type": "markdown",
      "metadata": {
        "id": "VE5lr50DHxu2"
      },
      "source": [
        "Представим, что произошла неприятность, и погрешности возросли в 10 раз!"
      ]
    },
    {
      "cell_type": "code",
      "execution_count": 8,
      "metadata": {
        "id": "E-t75UCcHxu3"
      },
      "outputs": [],
      "source": [
        "grouped_data['sigma_down'] *= 10\n",
        "grouped_data['sigma_momentum'] *= 10"
      ]
    },
    {
      "cell_type": "markdown",
      "metadata": {
        "id": "s8HQkGB3Hxu3"
      },
      "source": [
        "\n",
        "\n",
        "Теперь вам нужно нарисовать график зависимости $\\Omega_{down} (M_{down})$ <b>(не $\\Omega(M)$!)</b> для точек с крестами погрешностей, а также построить не только прямую по оценке наименьших квадратов, а ещё и учесть погрешности оценок коэффициентов! Т.е. нужно построить три прямых: $k \\cdot x + b$, которую выдал МНК, $(k - \\sigma_k) \\cdot x + (b - \\sigma_b)$, $(k + \\sigma_k) \\cdot x + (b + \\sigma_b)$, и закрасить промежуток между этими прямыми (в этом вам поможет функция plt.fill_between). Остальное оформление оставьте таким же, как в предыдущем задании.\n",
        "\n",
        "_Примечание: часто в МНК не смотрят на погрешность $b$, оставляя только $\\sigma_k$._"
      ]
    },
    {
      "cell_type": "markdown",
      "source": [
        "<center><img src='https://drive.google.com/uc?export=view&id=1SriaMzJah7F610ocIK_O1-HqqtMQgxlg' width=600>\n",
        "\n",
        "Пример получившегося графика</center>"
      ],
      "metadata": {
        "id": "Js6sF_UpKCkw"
      }
    },
    {
      "cell_type": "code",
      "execution_count": 9,
      "metadata": {
        "id": "dLdKIUCRHxu3",
        "colab": {
          "base_uri": "https://localhost:8080/",
          "height": 750
        },
        "outputId": "bbba0f02-448a-4b0e-9aad-40afcbf48638"
      },
      "outputs": [
        {
          "output_type": "stream",
          "name": "stdout",
          "text": [
            "[[ 1.27699149e+03 -1.21206159e-03]\n",
            " [-1.21206159e-03  1.95492817e-09]]\n"
          ]
        },
        {
          "output_type": "display_data",
          "data": {
            "text/plain": [
              "<Figure size 1200x800 with 1 Axes>"
            ],
            "image/png": "[encoded data removed]"
          },
          "metadata": {}
        }
      ],
      "source": [
        "omega_down_np = np.array(grouped_data.omega_down)\n",
        "momentum_down_np = np.array(grouped_data.momentum_down)\n",
        "\n",
        "coefs, cov = np.polyfit(momentum_down_np, omega_down_np, 1, w=1/np.array(grouped_data.sigma_down), cov=True)\n",
        "print(cov)\n",
        "sigma_k = cov[0][0]**0.5\n",
        "sigma_b = cov[1][1]**0.5\n",
        "x_lsq = np.linspace(momentum_down_np.min() * 0.3, momentum_down_np.max() * 1.1, 100)\n",
        "\n",
        "y_lsq = np.polyval(coefs, x_lsq)\n",
        "\n",
        "coefs[0] -= sigma_k\n",
        "coefs[1] -= sigma_b\n",
        "y_lsq_lower = np.polyval(coefs, x_lsq)\n",
        "\n",
        "coefs[0] += 2 * sigma_k\n",
        "coefs[1] += 2 * sigma_b\n",
        "y_lsq_upper = np.polyval(coefs, x_lsq)\n",
        "\n",
        "coefs[0] -= sigma_k\n",
        "coefs[1] -= sigma_b\n",
        "\n",
        "fig = plt.figure(figsize=(12, 8))\n",
        "\n",
        "\n",
        "coefs=np.round(coefs, 4)\n",
        "plt.plot(x_lsq, y_lsq, label = \"y=\"+str(coefs[0])+\"* x + \"+str(coefs[1]))\n",
        "plt.fill_between(x_lsq, y_lsq_lower, y_lsq_upper, alpha=.3, linewidth=0)\n",
        "plt.errorbar(momentum_down_np, omega_down_np, xerr=grouped_data.sigma_momentum, yerr=grouped_data.sigma_down,fmt='o', linewidth=2, capsize=6)\n",
        "\n",
        "plt.grid(True)\n",
        "plt.xlabel('Mdown, N*m', {'fontsize': 14})\n",
        "plt.ylabel('Ωdown, rad/sec', {'fontsize': 14})\n",
        "plt.title('График зависимости Ω(M)', {'fontsize': 18})\n",
        "plt.legend()\n",
        "plt.show()"
      ]
    },
    {
      "cell_type": "markdown",
      "source": [
        "# 3. Работа с датасетом (3 балла)"
      ],
      "metadata": {
        "id": "FqLjEbi2M4rE"
      }
    },
    {
      "cell_type": "markdown",
      "source": [
        "Датасет ирисов использовался в статье Р.А. Фишера 1936 года «Использование множественных измерений в таксономических задачах», а в наши дни часто используется начинающими аналитиками данных.\n",
        "\n",
        "В наборе данных включены три вида ирисов по 50 образцов каждый, а также некоторые свойства каждого цветка. Один вид цветка линейно отделим от двух других, но два других не отделимы линейно друг от друга.\n",
        "\n",
        "Столбцы в этом датасете:\n",
        "\n",
        "Идентификатор (Id) \\\\\n",
        "Длина чашелистика, см (SepalLengthCm) \\\\\n",
        "Ширина чашелистика, см (SepalWidthCm) \\\\\n",
        "Длина лепестка, см (PetalLengthCm) \\\\\n",
        "Ширина лепестка, см (PetalWidthCm) \\\\\n",
        "Вид (Species) \\\\\n",
        "\n",
        "<font color='red'>ВНИМАНИЕ!</font> Все графики в этой части должны быть подписаны, а на осях должны быть подписи на русском языке."
      ],
      "metadata": {
        "id": "mrXNzj1vSxMi"
      }
    },
    {
      "cell_type": "code",
      "source": [
        "sns.set_style(\"darkgrid\")"
      ],
      "metadata": {
        "id": "NESWENOWa7og"
      },
      "execution_count": 4,
      "outputs": []
    },
    {
      "cell_type": "code",
      "source": [
        "import os\n",
        "os.system(\"curl https://huggingface.co/datasets/scikit-learn/iris/raw/main/Iris.csv -o iris.csv\")\n",
        "iris = pd.read_csv('./iris.csv')\n",
        "iris.head()"
      ],
      "metadata": {
        "colab": {
          "base_uri": "https://localhost:8080/",
          "height": 204
        },
        "id": "AlQQAZVbUGFw",
        "outputId": "bbaad84f-0bd4-4c83-91eb-ceda51d520d9"
      },
      "execution_count": 5,
      "outputs": [
        {
          "output_type": "execute_result",
          "data": {
            "text/plain": [
              "   Id  SepalLengthCm  SepalWidthCm  PetalLengthCm  PetalWidthCm      Species\n",
              "0   1            5.1           3.5            1.4           0.2  Iris-setosa\n",
              "1   2            4.9           3.0            1.4           0.2  Iris-setosa\n",
              "2   3            4.7           3.2            1.3           0.2  Iris-setosa\n",
              "3   4            4.6           3.1            1.5           0.2  Iris-setosa\n",
              "4   5            5.0           3.6            1.4           0.2  Iris-setosa"
            ],
            "text/html": [
              "\n",
              "  <div id=\"df-aeca9bde-fe43-4c96-8275-d7086ad6b2ff\" class=\"colab-df-container\">\n",
              "    <div>\n",
              "<style scoped>\n",
              "    .dataframe tbody tr th:only-of-type {\n",
              "        vertical-align: middle;\n",
              "    }\n",
              "\n",
              "    .dataframe tbody tr th {\n",
              "        vertical-align: top;\n",
              "    }\n",
              "\n",
              "    .dataframe thead th {\n",
              "        text-align: right;\n",
              "    }\n",
              "</style>\n",
              "<table border=\"1\" class=\"dataframe\">\n",
              "  <thead>\n",
              "    <tr style=\"text-align: right;\">\n",
              "      <th></th>\n",
              "      <th>Id</th>\n",
              "      <th>SepalLengthCm</th>\n",
              "      <th>SepalWidthCm</th>\n",
              "      <th>PetalLengthCm</th>\n",
              "      <th>PetalWidthCm</th>\n",
              "      <th>Species</th>\n",
              "    </tr>\n",
              "  </thead>\n",
              "  <tbody>\n",
              "    <tr>\n",
              "      <th>0</th>\n",
              "      <td>1</td>\n",
              "      <td>5.1</td>\n",
              "      <td>3.5</td>\n",
              "      <td>1.4</td>\n",
              "      <td>0.2</td>\n",
              "      <td>Iris-setosa</td>\n",
              "    </tr>\n",
              "    <tr>\n",
              "      <th>1</th>\n",
              "      <td>2</td>\n",
              "      <td>4.9</td>\n",
              "      <td>3.0</td>\n",
              "      <td>1.4</td>\n",
              "      <td>0.2</td>\n",
              "      <td>Iris-setosa</td>\n",
              "    </tr>\n",
              "    <tr>\n",
              "      <th>2</th>\n",
              "      <td>3</td>\n",
              "      <td>4.7</td>\n",
              "      <td>3.2</td>\n",
              "      <td>1.3</td>\n",
              "      <td>0.2</td>\n",
              "      <td>Iris-setosa</td>\n",
              "    </tr>\n",
              "    <tr>\n",
              "      <th>3</th>\n",
              "      <td>4</td>\n",
              "      <td>4.6</td>\n",
              "      <td>3.1</td>\n",
              "      <td>1.5</td>\n",
              "      <td>0.2</td>\n",
              "      <td>Iris-setosa</td>\n",
              "    </tr>\n",
              "    <tr>\n",
              "      <th>4</th>\n",
              "      <td>5</td>\n",
              "      <td>5.0</td>\n",
              "      <td>3.6</td>\n",
              "      <td>1.4</td>\n",
              "      <td>0.2</td>\n",
              "      <td>Iris-setosa</td>\n",
              "    </tr>\n",
              "  </tbody>\n",
              "</table>\n",
              "</div>\n",
              "    <div class=\"colab-df-buttons\">\n",
              "\n",
              "  <div class=\"colab-df-container\">\n",
              "    <button class=\"colab-df-convert\" onclick=\"convertToInteractive('df-aeca9bde-fe43-4c96-8275-d7086ad6b2ff')\"\n",
              "            title=\"Convert this dataframe to an interactive table.\"\n",
              "            style=\"display:none;\">\n",
              "\n",
              "  <svg xmlns=\"http://www.w3.org/2000/svg\" height=\"24px\" viewBox=\"0 -960 960 960\">\n",
              "    <path d=\"M120-120v-720h720v720H120Zm60-500h600v-160H180v160Zm220 220h160v-160H400v160Zm0 220h160v-160H400v160ZM180-400h160v-160H180v160Zm440 0h160v-160H620v160ZM180-180h160v-160H180v160Zm440 0h160v-160H620v160Z\"/>\n",
              "  </svg>\n",
              "    </button>\n",
              "\n",
              "  <style>\n",
              "    .colab-df-container {\n",
              "      display:flex;\n",
              "      gap: 12px;\n",
              "    }\n",
              "\n",
              "    .colab-df-convert {\n",
              "      background-color: #E8F0FE;\n",
              "      border: none;\n",
              "      border-radius: 50%;\n",
              "      cursor: pointer;\n",
              "      display: none;\n",
              "      fill: #1967D2;\n",
              "      height: 32px;\n",
              "      padding: 0 0 0 0;\n",
              "      width: 32px;\n",
              "    }\n",
              "\n",
              "    .colab-df-convert:hover {\n",
              "      background-color: #E2EBFA;\n",
              "      box-shadow: 0px 1px 2px rgba(60, 64, 67, 0.3), 0px 1px 3px 1px rgba(60, 64, 67, 0.15);\n",
              "      fill: #174EA6;\n",
              "    }\n",
              "\n",
              "    .colab-df-buttons div {\n",
              "      margin-bottom: 4px;\n",
              "    }\n",
              "\n",
              "    [theme=dark] .colab-df-convert {\n",
              "      background-color: #3B4455;\n",
              "      fill: #D2E3FC;\n",
              "    }\n",
              "\n",
              "    [theme=dark] .colab-df-convert:hover {\n",
              "      background-color: #434B5C;\n",
              "      box-shadow: 0px 1px 3px 1px rgba(0, 0, 0, 0.15);\n",
              "      filter: drop-shadow(0px 1px 2px rgba(0, 0, 0, 0.3));\n",
              "      fill: #FFFFFF;\n",
              "    }\n",
              "  </style>\n",
              "\n",
              "    <script>\n",
              "      const buttonEl =\n",
              "        document.querySelector('#df-aeca9bde-fe43-4c96-8275-d7086ad6b2ff button.colab-df-convert');\n",
              "      buttonEl.style.display =\n",
              "        google.colab.kernel.accessAllowed ? 'block' : 'none';\n",
              "\n",
              "      async function convertToInteractive(key) {\n",
              "        const element = document.querySelector('#df-aeca9bde-fe43-4c96-8275-d7086ad6b2ff');\n",
              "        const dataTable =\n",
              "          await google.colab.kernel.invokeFunction('convertToInteractive',\n",
              "                                                    [key], {});\n",
              "        if (!dataTable) return;\n",
              "\n",
              "        const docLinkHtml = 'Like what you see? Visit the ' +\n",
              "          '<a target=\"_blank\" href=https://colab.research.google.com/notebooks/data_table.ipynb>data table notebook</a>'\n",
              "          + ' to learn more about interactive tables.';\n",
              "        element.innerHTML = '';\n",
              "        dataTable['output_type'] = 'display_data';\n",
              "        await google.colab.output.renderOutput(dataTable, element);\n",
              "        const docLink = document.createElement('div');\n",
              "        docLink.innerHTML = docLinkHtml;\n",
              "        element.appendChild(docLink);\n",
              "      }\n",
              "    </script>\n",
              "  </div>\n",
              "\n",
              "\n",
              "<div id=\"df-a9f3acb4-d0d4-417b-842e-c4a4e890a222\">\n",
              "  <button class=\"colab-df-quickchart\" onclick=\"quickchart('df-a9f3acb4-d0d4-417b-842e-c4a4e890a222')\"\n",
              "            title=\"Suggest charts\"\n",
              "            style=\"display:none;\">\n",
              "\n",
              "<svg xmlns=\"http://www.w3.org/2000/svg\" height=\"24px\"viewBox=\"0 0 24 24\"\n",
              "     width=\"24px\">\n",
              "    <g>\n",
              "        <path d=\"M19 3H5c-1.1 0-2 .9-2 2v14c0 1.1.9 2 2 2h14c1.1 0 2-.9 2-2V5c0-1.1-.9-2-2-2zM9 17H7v-7h2v7zm4 0h-2V7h2v10zm4 0h-2v-4h2v4z\"/>\n",
              "    </g>\n",
              "</svg>\n",
              "  </button>\n",
              "\n",
              "<style>\n",
              "  .colab-df-quickchart {\n",
              "      --bg-color: #E8F0FE;\n",
              "      --fill-color: #1967D2;\n",
              "      --hover-bg-color: #E2EBFA;\n",
              "      --hover-fill-color: #174EA6;\n",
              "      --disabled-fill-color: #AAA;\n",
              "      --disabled-bg-color: #DDD;\n",
              "  }\n",
              "\n",
              "  [theme=dark] .colab-df-quickchart {\n",
              "      --bg-color: #3B4455;\n",
              "      --fill-color: #D2E3FC;\n",
              "      --hover-bg-color: #434B5C;\n",
              "      --hover-fill-color: #FFFFFF;\n",
              "      --disabled-bg-color: #3B4455;\n",
              "      --disabled-fill-color: #666;\n",
              "  }\n",
              "\n",
              "  .colab-df-quickchart {\n",
              "    background-color: var(--bg-color);\n",
              "    border: none;\n",
              "    border-radius: 50%;\n",
              "    cursor: pointer;\n",
              "    display: none;\n",
              "    fill: var(--fill-color);\n",
              "    height: 32px;\n",
              "    padding: 0;\n",
              "    width: 32px;\n",
              "  }\n",
              "\n",
              "  .colab-df-quickchart:hover {\n",
              "    background-color: var(--hover-bg-color);\n",
              "    box-shadow: 0 1px 2px rgba(60, 64, 67, 0.3), 0 1px 3px 1px rgba(60, 64, 67, 0.15);\n",
              "    fill: var(--button-hover-fill-color);\n",
              "  }\n",
              "\n",
              "  .colab-df-quickchart-complete:disabled,\n",
              "  .colab-df-quickchart-complete:disabled:hover {\n",
              "    background-color: var(--disabled-bg-color);\n",
              "    fill: var(--disabled-fill-color);\n",
              "    box-shadow: none;\n",
              "  }\n",
              "\n",
              "  .colab-df-spinner {\n",
              "    border: 2px solid var(--fill-color);\n",
              "    border-color: transparent;\n",
              "    border-bottom-color: var(--fill-color);\n",
              "    animation:\n",
              "      spin 1s steps(1) infinite;\n",
              "  }\n",
              "\n",
              "  @keyframes spin {\n",
              "    0% {\n",
              "      border-color: transparent;\n",
              "      border-bottom-color: var(--fill-color);\n",
              "      border-left-color: var(--fill-color);\n",
              "    }\n",
              "    20% {\n",
              "      border-color: transparent;\n",
              "      border-left-color: var(--fill-color);\n",
              "      border-top-color: var(--fill-color);\n",
              "    }\n",
              "    30% {\n",
              "      border-color: transparent;\n",
              "      border-left-color: var(--fill-color);\n",
              "      border-top-color: var(--fill-color);\n",
              "      border-right-color: var(--fill-color);\n",
              "    }\n",
              "    40% {\n",
              "      border-color: transparent;\n",
              "      border-right-color: var(--fill-color);\n",
              "      border-top-color: var(--fill-color);\n",
              "    }\n",
              "    60% {\n",
              "      border-color: transparent;\n",
              "      border-right-color: var(--fill-color);\n",
              "    }\n",
              "    80% {\n",
              "      border-color: transparent;\n",
              "      border-right-color: var(--fill-color);\n",
              "      border-bottom-color: var(--fill-color);\n",
              "    }\n",
              "    90% {\n",
              "      border-color: transparent;\n",
              "      border-bottom-color: var(--fill-color);\n",
              "    }\n",
              "  }\n",
              "</style>\n",
              "\n",
              "  <script>\n",
              "    async function quickchart(key) {\n",
              "      const quickchartButtonEl =\n",
              "        document.querySelector('#' + key + ' button');\n",
              "      quickchartButtonEl.disabled = true;  // To prevent multiple clicks.\n",
              "      quickchartButtonEl.classList.add('colab-df-spinner');\n",
              "      try {\n",
              "        const charts = await google.colab.kernel.invokeFunction(\n",
              "            'suggestCharts', [key], {});\n",
              "      } catch (error) {\n",
              "        console.error('Error during call to suggestCharts:', error);\n",
              "      }\n",
              "      quickchartButtonEl.classList.remove('colab-df-spinner');\n",
              "      quickchartButtonEl.classList.add('colab-df-quickchart-complete');\n",
              "    }\n",
              "    (() => {\n",
              "      let quickchartButtonEl =\n",
              "        document.querySelector('#df-a9f3acb4-d0d4-417b-842e-c4a4e890a222 button');\n",
              "      quickchartButtonEl.style.display =\n",
              "        google.colab.kernel.accessAllowed ? 'block' : 'none';\n",
              "    })();\n",
              "  </script>\n",
              "</div>\n",
              "    </div>\n",
              "  </div>\n"
            ],
            "application/vnd.google.colaboratory.intrinsic+json": {
              "type": "dataframe",
              "variable_name": "iris",
              "summary": "{\n  \"name\": \"iris\",\n  \"rows\": 150,\n  \"fields\": [\n    {\n      \"column\": \"Id\",\n      \"properties\": {\n        \"dtype\": \"number\",\n        \"std\": 43,\n        \"min\": 1,\n        \"max\": 150,\n        \"num_unique_values\": 150,\n        \"samples\": [\n          74,\n          19,\n          119\n        ],\n        \"semantic_type\": \"\",\n        \"description\": \"\"\n      }\n    },\n    {\n      \"column\": \"SepalLengthCm\",\n      \"properties\": {\n        \"dtype\": \"number\",\n        \"std\": 0.8280661279778629,\n        \"min\": 4.3,\n        \"max\": 7.9,\n        \"num_unique_values\": 35,\n        \"samples\": [\n          6.2,\n          4.5,\n          5.6\n        ],\n        \"semantic_type\": \"\",\n        \"description\": \"\"\n      }\n    },\n    {\n      \"column\": \"SepalWidthCm\",\n      \"properties\": {\n        \"dtype\": \"number\",\n        \"std\": 0.4335943113621737,\n        \"min\": 2.0,\n        \"max\": 4.4,\n        \"num_unique_values\": 23,\n        \"samples\": [\n          2.3,\n          4.0,\n          3.5\n        ],\n        \"semantic_type\": \"\",\n        \"description\": \"\"\n      }\n    },\n    {\n      \"column\": \"PetalLengthCm\",\n      \"properties\": {\n        \"dtype\": \"number\",\n        \"std\": 1.7644204199522617,\n        \"min\": 1.0,\n        \"max\": 6.9,\n        \"num_unique_values\": 43,\n        \"samples\": [\n          6.7,\n          3.8,\n          3.7\n        ],\n        \"semantic_type\": \"\",\n        \"description\": \"\"\n      }\n    },\n    {\n      \"column\": \"PetalWidthCm\",\n      \"properties\": {\n        \"dtype\": \"number\",\n        \"std\": 0.7631607417008414,\n        \"min\": 0.1,\n        \"max\": 2.5,\n        \"num_unique_values\": 22,\n        \"samples\": [\n          0.2,\n          1.2,\n          1.3\n        ],\n        \"semantic_type\": \"\",\n        \"description\": \"\"\n      }\n    },\n    {\n      \"column\": \"Species\",\n      \"properties\": {\n        \"dtype\": \"category\",\n        \"num_unique_values\": 3,\n        \"samples\": [\n          \"Iris-setosa\",\n          \"Iris-versicolor\",\n          \"Iris-virginica\"\n        ],\n        \"semantic_type\": \"\",\n        \"description\": \"\"\n      }\n    }\n  ]\n}"
            }
          },
          "metadata": {},
          "execution_count": 5
        }
      ]
    },
    {
      "cell_type": "code",
      "source": [
        "# Понятно, что колонка Id нам не очень нужна\n",
        "# Поэтому давайте её удалим - HINT: используйте метод drop\n",
        "\n",
        "iris.drop(columns='Id', inplace=True)\n",
        "iris.head()"
      ],
      "metadata": {
        "colab": {
          "base_uri": "https://localhost:8080/",
          "height": 204
        },
        "id": "oDcVUiPbUfOa",
        "outputId": "1a89ab37-1f9f-44d7-8a8a-f4d7fb3b8aa2"
      },
      "execution_count": 6,
      "outputs": [
        {
          "output_type": "execute_result",
          "data": {
            "text/plain": [
              "   SepalLengthCm  SepalWidthCm  PetalLengthCm  PetalWidthCm      Species\n",
              "0            5.1           3.5            1.4           0.2  Iris-setosa\n",
              "1            4.9           3.0            1.4           0.2  Iris-setosa\n",
              "2            4.7           3.2            1.3           0.2  Iris-setosa\n",
              "3            4.6           3.1            1.5           0.2  Iris-setosa\n",
              "4            5.0           3.6            1.4           0.2  Iris-setosa"
            ],
            "text/html": [
              "\n",
              "  <div id=\"df-04843240-d88d-43f1-9161-9e7c9d7be2e4\" class=\"colab-df-container\">\n",
              "    <div>\n",
              "<style scoped>\n",
              "    .dataframe tbody tr th:only-of-type {\n",
              "        vertical-align: middle;\n",
              "    }\n",
              "\n",
              "    .dataframe tbody tr th {\n",
              "        vertical-align: top;\n",
              "    }\n",
              "\n",
              "    .dataframe thead th {\n",
              "        text-align: right;\n",
              "    }\n",
              "</style>\n",
              "<table border=\"1\" class=\"dataframe\">\n",
              "  <thead>\n",
              "    <tr style=\"text-align: right;\">\n",
              "      <th></th>\n",
              "      <th>SepalLengthCm</th>\n",
              "      <th>SepalWidthCm</th>\n",
              "      <th>PetalLengthCm</th>\n",
              "      <th>PetalWidthCm</th>\n",
              "      <th>Species</th>\n",
              "    </tr>\n",
              "  </thead>\n",
              "  <tbody>\n",
              "    <tr>\n",
              "      <th>0</th>\n",
              "      <td>5.1</td>\n",
              "      <td>3.5</td>\n",
              "      <td>1.4</td>\n",
              "      <td>0.2</td>\n",
              "      <td>Iris-setosa</td>\n",
              "    </tr>\n",
              "    <tr>\n",
              "      <th>1</th>\n",
              "      <td>4.9</td>\n",
              "      <td>3.0</td>\n",
              "      <td>1.4</td>\n",
              "      <td>0.2</td>\n",
              "      <td>Iris-setosa</td>\n",
              "    </tr>\n",
              "    <tr>\n",
              "      <th>2</th>\n",
              "      <td>4.7</td>\n",
              "      <td>3.2</td>\n",
              "      <td>1.3</td>\n",
              "      <td>0.2</td>\n",
              "      <td>Iris-setosa</td>\n",
              "    </tr>\n",
              "    <tr>\n",
              "      <th>3</th>\n",
              "      <td>4.6</td>\n",
              "      <td>3.1</td>\n",
              "      <td>1.5</td>\n",
              "      <td>0.2</td>\n",
              "      <td>Iris-setosa</td>\n",
              "    </tr>\n",
              "    <tr>\n",
              "      <th>4</th>\n",
              "      <td>5.0</td>\n",
              "      <td>3.6</td>\n",
              "      <td>1.4</td>\n",
              "      <td>0.2</td>\n",
              "      <td>Iris-setosa</td>\n",
              "    </tr>\n",
              "  </tbody>\n",
              "</table>\n",
              "</div>\n",
              "    <div class=\"colab-df-buttons\">\n",
              "\n",
              "  <div class=\"colab-df-container\">\n",
              "    <button class=\"colab-df-convert\" onclick=\"convertToInteractive('df-04843240-d88d-43f1-9161-9e7c9d7be2e4')\"\n",
              "            title=\"Convert this dataframe to an interactive table.\"\n",
              "            style=\"display:none;\">\n",
              "\n",
              "  <svg xmlns=\"http://www.w3.org/2000/svg\" height=\"24px\" viewBox=\"0 -960 960 960\">\n",
              "    <path d=\"M120-120v-720h720v720H120Zm60-500h600v-160H180v160Zm220 220h160v-160H400v160Zm0 220h160v-160H400v160ZM180-400h160v-160H180v160Zm440 0h160v-160H620v160ZM180-180h160v-160H180v160Zm440 0h160v-160H620v160Z\"/>\n",
              "  </svg>\n",
              "    </button>\n",
              "\n",
              "  <style>\n",
              "    .colab-df-container {\n",
              "      display:flex;\n",
              "      gap: 12px;\n",
              "    }\n",
              "\n",
              "    .colab-df-convert {\n",
              "      background-color: #E8F0FE;\n",
              "      border: none;\n",
              "      border-radius: 50%;\n",
              "      cursor: pointer;\n",
              "      display: none;\n",
              "      fill: #1967D2;\n",
              "      height: 32px;\n",
              "      padding: 0 0 0 0;\n",
              "      width: 32px;\n",
              "    }\n",
              "\n",
              "    .colab-df-convert:hover {\n",
              "      background-color: #E2EBFA;\n",
              "      box-shadow: 0px 1px 2px rgba(60, 64, 67, 0.3), 0px 1px 3px 1px rgba(60, 64, 67, 0.15);\n",
              "      fill: #174EA6;\n",
              "    }\n",
              "\n",
              "    .colab-df-buttons div {\n",
              "      margin-bottom: 4px;\n",
              "    }\n",
              "\n",
              "    [theme=dark] .colab-df-convert {\n",
              "      background-color: #3B4455;\n",
              "      fill: #D2E3FC;\n",
              "    }\n",
              "\n",
              "    [theme=dark] .colab-df-convert:hover {\n",
              "      background-color: #434B5C;\n",
              "      box-shadow: 0px 1px 3px 1px rgba(0, 0, 0, 0.15);\n",
              "      filter: drop-shadow(0px 1px 2px rgba(0, 0, 0, 0.3));\n",
              "      fill: #FFFFFF;\n",
              "    }\n",
              "  </style>\n",
              "\n",
              "    <script>\n",
              "      const buttonEl =\n",
              "        document.querySelector('#df-04843240-d88d-43f1-9161-9e7c9d7be2e4 button.colab-df-convert');\n",
              "      buttonEl.style.display =\n",
              "        google.colab.kernel.accessAllowed ? 'block' : 'none';\n",
              "\n",
              "      async function convertToInteractive(key) {\n",
              "        const element = document.querySelector('#df-04843240-d88d-43f1-9161-9e7c9d7be2e4');\n",
              "        const dataTable =\n",
              "          await google.colab.kernel.invokeFunction('convertToInteractive',\n",
              "                                                    [key], {});\n",
              "        if (!dataTable) return;\n",
              "\n",
              "        const docLinkHtml = 'Like what you see? Visit the ' +\n",
              "          '<a target=\"_blank\" href=https://colab.research.google.com/notebooks/data_table.ipynb>data table notebook</a>'\n",
              "          + ' to learn more about interactive tables.';\n",
              "        element.innerHTML = '';\n",
              "        dataTable['output_type'] = 'display_data';\n",
              "        await google.colab.output.renderOutput(dataTable, element);\n",
              "        const docLink = document.createElement('div');\n",
              "        docLink.innerHTML = docLinkHtml;\n",
              "        element.appendChild(docLink);\n",
              "      }\n",
              "    </script>\n",
              "  </div>\n",
              "\n",
              "\n",
              "<div id=\"df-b093ba59-4660-42d7-9d01-901e74eeb3fa\">\n",
              "  <button class=\"colab-df-quickchart\" onclick=\"quickchart('df-b093ba59-4660-42d7-9d01-901e74eeb3fa')\"\n",
              "            title=\"Suggest charts\"\n",
              "            style=\"display:none;\">\n",
              "\n",
              "<svg xmlns=\"http://www.w3.org/2000/svg\" height=\"24px\"viewBox=\"0 0 24 24\"\n",
              "     width=\"24px\">\n",
              "    <g>\n",
              "        <path d=\"M19 3H5c-1.1 0-2 .9-2 2v14c0 1.1.9 2 2 2h14c1.1 0 2-.9 2-2V5c0-1.1-.9-2-2-2zM9 17H7v-7h2v7zm4 0h-2V7h2v10zm4 0h-2v-4h2v4z\"/>\n",
              "    </g>\n",
              "</svg>\n",
              "  </button>\n",
              "\n",
              "<style>\n",
              "  .colab-df-quickchart {\n",
              "      --bg-color: #E8F0FE;\n",
              "      --fill-color: #1967D2;\n",
              "      --hover-bg-color: #E2EBFA;\n",
              "      --hover-fill-color: #174EA6;\n",
              "      --disabled-fill-color: #AAA;\n",
              "      --disabled-bg-color: #DDD;\n",
              "  }\n",
              "\n",
              "  [theme=dark] .colab-df-quickchart {\n",
              "      --bg-color: #3B4455;\n",
              "      --fill-color: #D2E3FC;\n",
              "      --hover-bg-color: #434B5C;\n",
              "      --hover-fill-color: #FFFFFF;\n",
              "      --disabled-bg-color: #3B4455;\n",
              "      --disabled-fill-color: #666;\n",
              "  }\n",
              "\n",
              "  .colab-df-quickchart {\n",
              "    background-color: var(--bg-color);\n",
              "    border: none;\n",
              "    border-radius: 50%;\n",
              "    cursor: pointer;\n",
              "    display: none;\n",
              "    fill: var(--fill-color);\n",
              "    height: 32px;\n",
              "    padding: 0;\n",
              "    width: 32px;\n",
              "  }\n",
              "\n",
              "  .colab-df-quickchart:hover {\n",
              "    background-color: var(--hover-bg-color);\n",
              "    box-shadow: 0 1px 2px rgba(60, 64, 67, 0.3), 0 1px 3px 1px rgba(60, 64, 67, 0.15);\n",
              "    fill: var(--button-hover-fill-color);\n",
              "  }\n",
              "\n",
              "  .colab-df-quickchart-complete:disabled,\n",
              "  .colab-df-quickchart-complete:disabled:hover {\n",
              "    background-color: var(--disabled-bg-color);\n",
              "    fill: var(--disabled-fill-color);\n",
              "    box-shadow: none;\n",
              "  }\n",
              "\n",
              "  .colab-df-spinner {\n",
              "    border: 2px solid var(--fill-color);\n",
              "    border-color: transparent;\n",
              "    border-bottom-color: var(--fill-color);\n",
              "    animation:\n",
              "      spin 1s steps(1) infinite;\n",
              "  }\n",
              "\n",
              "  @keyframes spin {\n",
              "    0% {\n",
              "      border-color: transparent;\n",
              "      border-bottom-color: var(--fill-color);\n",
              "      border-left-color: var(--fill-color);\n",
              "    }\n",
              "    20% {\n",
              "      border-color: transparent;\n",
              "      border-left-color: var(--fill-color);\n",
              "      border-top-color: var(--fill-color);\n",
              "    }\n",
              "    30% {\n",
              "      border-color: transparent;\n",
              "      border-left-color: var(--fill-color);\n",
              "      border-top-color: var(--fill-color);\n",
              "      border-right-color: var(--fill-color);\n",
              "    }\n",
              "    40% {\n",
              "      border-color: transparent;\n",
              "      border-right-color: var(--fill-color);\n",
              "      border-top-color: var(--fill-color);\n",
              "    }\n",
              "    60% {\n",
              "      border-color: transparent;\n",
              "      border-right-color: var(--fill-color);\n",
              "    }\n",
              "    80% {\n",
              "      border-color: transparent;\n",
              "      border-right-color: var(--fill-color);\n",
              "      border-bottom-color: var(--fill-color);\n",
              "    }\n",
              "    90% {\n",
              "      border-color: transparent;\n",
              "      border-bottom-color: var(--fill-color);\n",
              "    }\n",
              "  }\n",
              "</style>\n",
              "\n",
              "  <script>\n",
              "    async function quickchart(key) {\n",
              "      const quickchartButtonEl =\n",
              "        document.querySelector('#' + key + ' button');\n",
              "      quickchartButtonEl.disabled = true;  // To prevent multiple clicks.\n",
              "      quickchartButtonEl.classList.add('colab-df-spinner');\n",
              "      try {\n",
              "        const charts = await google.colab.kernel.invokeFunction(\n",
              "            'suggestCharts', [key], {});\n",
              "      } catch (error) {\n",
              "        console.error('Error during call to suggestCharts:', error);\n",
              "      }\n",
              "      quickchartButtonEl.classList.remove('colab-df-spinner');\n",
              "      quickchartButtonEl.classList.add('colab-df-quickchart-complete');\n",
              "    }\n",
              "    (() => {\n",
              "      let quickchartButtonEl =\n",
              "        document.querySelector('#df-b093ba59-4660-42d7-9d01-901e74eeb3fa button');\n",
              "      quickchartButtonEl.style.display =\n",
              "        google.colab.kernel.accessAllowed ? 'block' : 'none';\n",
              "    })();\n",
              "  </script>\n",
              "</div>\n",
              "    </div>\n",
              "  </div>\n"
            ],
            "application/vnd.google.colaboratory.intrinsic+json": {
              "type": "dataframe",
              "variable_name": "iris",
              "summary": "{\n  \"name\": \"iris\",\n  \"rows\": 150,\n  \"fields\": [\n    {\n      \"column\": \"SepalLengthCm\",\n      \"properties\": {\n        \"dtype\": \"number\",\n        \"std\": 0.8280661279778629,\n        \"min\": 4.3,\n        \"max\": 7.9,\n        \"num_unique_values\": 35,\n        \"samples\": [\n          6.2,\n          4.5,\n          5.6\n        ],\n        \"semantic_type\": \"\",\n        \"description\": \"\"\n      }\n    },\n    {\n      \"column\": \"SepalWidthCm\",\n      \"properties\": {\n        \"dtype\": \"number\",\n        \"std\": 0.4335943113621737,\n        \"min\": 2.0,\n        \"max\": 4.4,\n        \"num_unique_values\": 23,\n        \"samples\": [\n          2.3,\n          4.0,\n          3.5\n        ],\n        \"semantic_type\": \"\",\n        \"description\": \"\"\n      }\n    },\n    {\n      \"column\": \"PetalLengthCm\",\n      \"properties\": {\n        \"dtype\": \"number\",\n        \"std\": 1.7644204199522617,\n        \"min\": 1.0,\n        \"max\": 6.9,\n        \"num_unique_values\": 43,\n        \"samples\": [\n          6.7,\n          3.8,\n          3.7\n        ],\n        \"semantic_type\": \"\",\n        \"description\": \"\"\n      }\n    },\n    {\n      \"column\": \"PetalWidthCm\",\n      \"properties\": {\n        \"dtype\": \"number\",\n        \"std\": 0.7631607417008414,\n        \"min\": 0.1,\n        \"max\": 2.5,\n        \"num_unique_values\": 22,\n        \"samples\": [\n          0.2,\n          1.2,\n          1.3\n        ],\n        \"semantic_type\": \"\",\n        \"description\": \"\"\n      }\n    },\n    {\n      \"column\": \"Species\",\n      \"properties\": {\n        \"dtype\": \"category\",\n        \"num_unique_values\": 3,\n        \"samples\": [\n          \"Iris-setosa\",\n          \"Iris-versicolor\",\n          \"Iris-virginica\"\n        ],\n        \"semantic_type\": \"\",\n        \"description\": \"\"\n      }\n    }\n  ]\n}"
            }
          },
          "metadata": {},
          "execution_count": 6
        }
      ]
    },
    {
      "cell_type": "markdown",
      "source": [
        "Давайте проверим, сколько у нас разных видов ирисов в итоге - должно быть 3 по 50 штук каждый. Воспользуйтесь `value_counts` , чтобы посмотреть, какие есть возможные значения у колонки species."
      ],
      "metadata": {
        "id": "R2j3kkefV5DP"
      }
    },
    {
      "cell_type": "code",
      "source": [
        "result = iris['Species'].value_counts()\n",
        "result"
      ],
      "metadata": {
        "id": "ciikB8rDYmvE",
        "colab": {
          "base_uri": "https://localhost:8080/",
          "height": 207
        },
        "outputId": "9f34afc9-2087-41ca-b13b-8e17b1255a02"
      },
      "execution_count": 7,
      "outputs": [
        {
          "output_type": "execute_result",
          "data": {
            "text/plain": [
              "Species\n",
              "Iris-setosa        50\n",
              "Iris-versicolor    50\n",
              "Iris-virginica     50\n",
              "Name: count, dtype: int64"
            ],
            "text/html": [
              "<div>\n",
              "<style scoped>\n",
              "    .dataframe tbody tr th:only-of-type {\n",
              "        vertical-align: middle;\n",
              "    }\n",
              "\n",
              "    .dataframe tbody tr th {\n",
              "        vertical-align: top;\n",
              "    }\n",
              "\n",
              "    .dataframe thead th {\n",
              "        text-align: right;\n",
              "    }\n",
              "</style>\n",
              "<table border=\"1\" class=\"dataframe\">\n",
              "  <thead>\n",
              "    <tr style=\"text-align: right;\">\n",
              "      <th></th>\n",
              "      <th>count</th>\n",
              "    </tr>\n",
              "    <tr>\n",
              "      <th>Species</th>\n",
              "      <th></th>\n",
              "    </tr>\n",
              "  </thead>\n",
              "  <tbody>\n",
              "    <tr>\n",
              "      <th>Iris-setosa</th>\n",
              "      <td>50</td>\n",
              "    </tr>\n",
              "    <tr>\n",
              "      <th>Iris-versicolor</th>\n",
              "      <td>50</td>\n",
              "    </tr>\n",
              "    <tr>\n",
              "      <th>Iris-virginica</th>\n",
              "      <td>50</td>\n",
              "    </tr>\n",
              "  </tbody>\n",
              "</table>\n",
              "</div><br><label><b>dtype:</b> int64</label>"
            ]
          },
          "metadata": {},
          "execution_count": 7
        }
      ]
    },
    {
      "cell_type": "markdown",
      "source": [
        "## 3.1 Графики длины и ширины лепестка ириса\n",
        "\n",
        "Давайте попробуем сравнить, связаны ли ширина и длина лепестков - воспользуйтесь `sns.scatterplot`, чтобы отобразить на оси OXY значения. Не забудьте подписать график и оси!"
      ],
      "metadata": {
        "id": "WXYdKrdqYp6I"
      }
    },
    {
      "cell_type": "code",
      "source": [
        "cmap = sns.cubehelix_palette(n_colors=3)\n",
        "g1 = sns.scatterplot(\n",
        "    data=iris,\n",
        "    x=\"PetalLengthCm\", y=\"PetalWidthCm\",\n",
        "    hue=\"Species\", size=None,\n",
        "    palette=cmap,\n",
        ")\n",
        "g1.set(xscale=\"linear\", yscale=\"linear\")\n",
        "g1.set(xlabel='Длина лепестков, см', ylabel='Ширина лепестков, см')\n",
        "g1.xaxis.grid(True, \"minor\", linewidth=.25)\n",
        "a = g1.yaxis.grid(True, \"minor\", linewidth=.25)"
      ],
      "metadata": {
        "id": "yC3bz9HHadj2",
        "colab": {
          "base_uri": "https://localhost:8080/",
          "height": 449
        },
        "outputId": "e5596606-95f7-4f41-8845-5fbf92647d2a"
      },
      "execution_count": 8,
      "outputs": [
        {
          "output_type": "display_data",
          "data": {
            "text/plain": [
              "<Figure size 640x480 with 1 Axes>"
            ],
            "image/png": "[encoded data removed]"
          },
          "metadata": {}
        }
      ]
    },
    {
      "cell_type": "markdown",
      "source": [
        "Напишите, какие выводы можно сделать из графика. Чего графику не хватает, чтобы он был информативным?\n",
        "\n",
        "<font color='red'>ВАШ ОТВЕТ ЗДЕСЬ</font>"
      ],
      "metadata": {
        "id": "xnNewWCcbRqu"
      }
    },
    {
      "cell_type": "markdown",
      "source": [
        "Давайте попробуем другие графики для тех же целей из библиотеки seaborn - `sns.jointplot`; кроме того, попробуйте выделить цветом точки на графике в зависимости от вида ириса - воспользуйтесь `sns.facetgrid`. В следующих ячейках выведите эти два графика и проанализируйте."
      ],
      "metadata": {
        "id": "9KNx2DY7b92b"
      }
    },
    {
      "cell_type": "code",
      "source": [
        "g2 = sns.jointplot(\n",
        "    data=iris,\n",
        "    x=\"PetalLengthCm\", y=\"PetalWidthCm\",\n",
        "    hue=\"Species\", size=None,\n",
        "    palette=cmap,\n",
        ")\n",
        "g2.ax_joint.set_xlabel('Длина лепестков, см')\n",
        "g2.ax_joint.set_ylabel('Ширина лепестков, см')\n",
        "a=1"
      ],
      "metadata": {
        "id": "n448lJCObP6J",
        "colab": {
          "base_uri": "https://localhost:8080/",
          "height": 607
        },
        "outputId": "956577bc-2003-4a9c-c6e9-27ea2e6caed5"
      },
      "execution_count": 9,
      "outputs": [
        {
          "output_type": "display_data",
          "data": {
            "text/plain": [
              "<Figure size 600x600 with 3 Axes>"
            ],
            "image/png": "[encoded data removed]"
          },
          "metadata": {}
        }
      ]
    },
    {
      "cell_type": "code",
      "source": [
        "g3 = sns.FacetGrid(\n",
        "    data=iris,\n",
        "\n",
        "    col=\"Species\",\n",
        "    hue=\"Species\", palette=cmap,\n",
        ")\n",
        "g3.map(sns.scatterplot, \"PetalLengthCm\", \"PetalWidthCm\")\n",
        "a=g3.set_axis_labels('Длина лепестков, см', 'Ширина лепестков, см')"
      ],
      "metadata": {
        "id": "GFRnPtx1cV2D",
        "colab": {
          "base_uri": "https://localhost:8080/",
          "height": 307
        },
        "outputId": "a3e4347b-9724-45e7-b991-5ac27fde3b0a"
      },
      "execution_count": 10,
      "outputs": [
        {
          "output_type": "display_data",
          "data": {
            "text/plain": [
              "<Figure size 900x300 with 3 Axes>"
            ],
            "image/png": "[encoded data removed]"
          },
          "metadata": {}
        }
      ]
    },
    {
      "cell_type": "markdown",
      "source": [
        "Какие выводы можно сделать из этих графиков? Какой из 3 методов - scatterplot, jointplot, facetgrid вам кажется лучше?\n",
        "\n",
        "<font color='red'> ВАШ ОТВЕТ ЗДЕСЬ </font>"
      ],
      "metadata": {
        "id": "9AoAkXk5cV9h"
      }
    },
    {
      "cell_type": "markdown",
      "source": [
        "## 3.2 Графики распределений значений длины лепестка"
      ],
      "metadata": {
        "id": "VLhlRICGc75D"
      }
    },
    {
      "cell_type": "markdown",
      "source": [
        "Постройте график \"ящика с усами\" - `sns.boxplot` и его аналог - `sns.violinplot`. По оси Ox должны находиться возможные виды ирисов, по оси Oy."
      ],
      "metadata": {
        "id": "6ZFYjsYUdBuI"
      }
    },
    {
      "cell_type": "code",
      "source": [
        "g4 = sns.boxplot(\n",
        "    data=iris,\n",
        "    x=\"Species\", y=\"PetalLengthCm\",\n",
        "    hue=\"Species\", palette=cmap,\n",
        "\n",
        ")\n",
        "g4.set_xlabel('Виды')\n",
        "a = g4.set_ylabel('Длина лепестков, см')"
      ],
      "metadata": {
        "id": "r3ZO1ll9dr9N",
        "colab": {
          "base_uri": "https://localhost:8080/",
          "height": 449
        },
        "outputId": "f7b32591-5215-42e5-aed6-d7e19fdb1b28"
      },
      "execution_count": 11,
      "outputs": [
        {
          "output_type": "display_data",
          "data": {
            "text/plain": [
              "<Figure size 640x480 with 1 Axes>"
            ],
            "image/png": "[encoded data removed]"
          },
          "metadata": {}
        }
      ]
    },
    {
      "cell_type": "code",
      "source": [
        "g5=sns.violinplot(\n",
        "    data=iris,\n",
        "    x=\"Species\", y=\"PetalLengthCm\",\n",
        "    hue=\"Species\", palette=cmap,\n",
        "    )\n",
        "g5.set_xlabel('Виды')\n",
        "a = g5.set_ylabel('Длина лепестков, см')"
      ],
      "metadata": {
        "id": "2hlonw5odtbL",
        "colab": {
          "base_uri": "https://localhost:8080/",
          "height": 449
        },
        "outputId": "e56bcb32-b7f8-43c9-f8fc-6f8327b1b23d"
      },
      "execution_count": 12,
      "outputs": [
        {
          "output_type": "display_data",
          "data": {
            "text/plain": [
              "<Figure size 640x480 with 1 Axes>"
            ],
            "image/png": "[encoded data removed]"
          },
          "metadata": {}
        }
      ]
    },
    {
      "cell_type": "markdown",
      "source": [
        "Сравните два вида графиков. Какой более информативный, а какой - более красивый визуально по вашему мнению? Какую информацию мы можем получить из этих графиков?\n",
        "\n",
        "<font color='red'> ВАШ ОТВЕТ ЗДЕСЬ </font>"
      ],
      "metadata": {
        "id": "etGxbdVedtmW"
      }
    },
    {
      "cell_type": "markdown",
      "source": [
        "## 3.3 Попарные графики взаимосвязи признаков\n",
        "\n",
        "\n",
        "Давайте попробуем построить большую табличку из графиковв размера 4 на 4, где у нас находятся все возможные пары признаков (длина/ширина лепестка, длина/ширина чашелистика). Для этого воспользуйтесь `sns.pairplot` и не забудьте указать параметр `hue`."
      ],
      "metadata": {
        "id": "l3Ds9W78eXQ7"
      }
    },
    {
      "cell_type": "code",
      "source": [
        "# TODO"
      ],
      "metadata": {
        "id": "Inl3JIWKe9VU"
      },
      "execution_count": null,
      "outputs": []
    },
    {
      "cell_type": "markdown",
      "source": [
        "Какую информацию о взаимосвязи признаков вы можете почерпнуть из полученного графика?\n",
        "\n",
        "<font color='red'> ВАШ ОТВЕТ ЗДЕСЬ </font>"
      ],
      "metadata": {
        "id": "TI5q8XmWfFlG"
      }
    },
    {
      "cell_type": "markdown",
      "source": [
        "Какие графики находятся на диагонали этой таблицы?\n",
        "\n",
        "<font color='red'> ВАШ ОТВЕТ ЗДЕСЬ </font>"
      ],
      "metadata": {
        "id": "Qjx7hlPqfMUs"
      }
    },
    {
      "cell_type": "markdown",
      "source": [
        "Попробуй заменить графики на диагонали таблицы на другие, возможно, более информативные (подсказка: в документации у `sns.pairplot` для этого есть специальный параметр). Выведи полученный график."
      ],
      "metadata": {
        "id": "1lLyldeDfR0l"
      }
    },
    {
      "cell_type": "code",
      "source": [
        "# TODO"
      ],
      "metadata": {
        "id": "nzziJ41Wfgfo"
      },
      "execution_count": null,
      "outputs": []
    },
    {
      "cell_type": "markdown",
      "source": [
        "Какие графики теперь находятся на диагонали таблицы? Получилось ли более информативно?\n",
        "\n",
        "<font color='red'> ВАШ ОТВЕТ ЗДЕСЬ </font>"
      ],
      "metadata": {
        "id": "_lOw8ntYfhLX"
      }
    },
    {
      "cell_type": "markdown",
      "source": [],
      "metadata": {
        "id": "QYw4Ipx8frhJ"
      }
    }
  ],
  "metadata": {
    "colab": {
      "provenance": [],
      "toc_visible": true,
      "include_colab_link": true
    },
    "kernelspec": {
      "display_name": "Python 3",
      "name": "python3"
    },
    "language_info": {
      "codemirror_mode": {
        "name": "ipython",
        "version": 3
      },
      "file_extension": ".py",
      "mimetype": "text/x-python",
      "name": "python",
      "nbconvert_exporter": "python",
      "pygments_lexer": "ipython3",
      "version": "3.10.14"
    }
  },
  "nbformat": 4,
  "nbformat_minor": 0
}